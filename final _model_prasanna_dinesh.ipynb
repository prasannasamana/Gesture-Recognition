{
 "cells": [
  {
   "cell_type": "markdown",
   "metadata": {},
   "source": [
    "# Gesture Recognition\n",
    "In this group project, you are going to build a 3D Conv model that will be able to predict the 5 gestures correctly. Please import the following libraries to get started."
   ]
  },
  {
   "cell_type": "code",
   "execution_count": 77,
   "metadata": {},
   "outputs": [],
   "source": [
    "import numpy as np\n",
    "import os\n",
    "from scipy.misc import imread, imresize\n",
    "import datetime\n",
    "import os"
   ]
  },
  {
   "cell_type": "markdown",
   "metadata": {},
   "source": [
    "We set the random seed so that the results don't vary drastically."
   ]
  },
  {
   "cell_type": "code",
   "execution_count": 78,
   "metadata": {},
   "outputs": [],
   "source": [
    "np.random.seed(30)\n",
    "import random as rn\n",
    "rn.seed(30)\n",
    "from keras import backend as K\n",
    "import tensorflow as tf\n",
    "tf.set_random_seed(30)"
   ]
  },
  {
   "cell_type": "markdown",
   "metadata": {},
   "source": [
    "In this block, you read the folder names for training and validation. You also set the `batch_size` here. Note that you set the batch size in such a way that you are able to use the GPU in full capacity. You keep increasing the batch size until the machine throws an error."
   ]
  },
  {
   "cell_type": "code",
   "execution_count": 79,
   "metadata": {},
   "outputs": [],
   "source": [
    "train_doc = np.random.permutation(open('Project_data/train.csv').readlines())\n",
    "val_doc = np.random.permutation(open('Project_data/val.csv').readlines())\n",
    "batch_size = 40 #experiment with the batch size"
   ]
  },
  {
   "cell_type": "markdown",
   "metadata": {},
   "source": [
    "## Generator\n",
    "This is one of the most important part of the code. The overall structure of the generator has been given. In the generator, you are going to preprocess the images as you have images of 2 different dimensions as well as create a batch of video frames. You have to experiment with `img_idx`, `y`,`z` and normalization such that you get high accuracy."
   ]
  },
  {
   "cell_type": "code",
   "execution_count": 80,
   "metadata": {},
   "outputs": [],
   "source": [
    "y = 120   # y \n",
    "z = 120   # z \n",
    "x = 30    #FRAMES"
   ]
  },
  {
   "cell_type": "code",
   "execution_count": 81,
   "metadata": {},
   "outputs": [],
   "source": [
    "#data resizing - Resizing all the images, so we can have all the images in a specific size\n",
    "def crop_resize_img(img):\n",
    "    if img.shape[0] != img.shape[1]:\n",
    "        img=img[0:120,10:150]\n",
    "    resized_image = imresize(img, (y,z))\n",
    "    return resized_image"
   ]
  },
  {
   "cell_type": "code",
   "execution_count": 82,
   "metadata": {},
   "outputs": [],
   "source": [
    "\n",
    "def normalize_image(img):\n",
    "    #using percentile for normalization for images, as min-max is giving better results.\n",
    "    # normalized_image= img/256 \n",
    "    normalized_image= img/256\n",
    "    return normalized_image"
   ]
  },
  {
   "cell_type": "code",
   "execution_count": 83,
   "metadata": {},
   "outputs": [],
   "source": [
    "def generator(source_path, folder_list, batch_size):\n",
    "    print( 'Source path = ', source_path, '; batch size =', batch_size)\n",
    "    img_idx = [x for x in range(0,x)]  #create a list of image numbers you want to use for a particular video\n",
    "    while True:\n",
    "        t = np.random.permutation(folder_list)\n",
    "        num_batches = len(folder_list) // batch_size # calculate the number of batches\n",
    "        for batch in range(num_batches): # we iterate over the number of batches\n",
    "            batch_data = np.zeros((batch_size,x,y,z,3)) # x is the number of images you use for each video, (y,z) is the final size of the input images and 3 is the number of channels RGB\n",
    "            batch_labels = np.zeros((batch_size,5)) # batch_labels is the one hot representation of the output\n",
    "            for folder in range(batch_size): # iterate over the batch_size\n",
    "                imgs = os.listdir(source_path+'/'+ t[folder + (batch*batch_size)].split(';')[0]) # read all the images in the folder\n",
    "                for idx,item in enumerate(img_idx): #  Iterate iver the frames/images of a folder to read them in\n",
    "                    image = imread(source_path+'/'+ t[folder + (batch*batch_size)].strip().split(';')[0]+'/'+imgs[item]).astype(np.float32)\n",
    "                    \n",
    "                    #crop the images and resize them. Note that the images are of 2 different shape \n",
    "                    #and the conv3D will throw error if the inputs in a batch have different shapes\n",
    "                    resized_image=crop_resize_img(image)\n",
    "                    batch_data[folder,idx,:,:,0] = normalize_image(resized_image[:, : , 0]) #normalise and feed in the image\n",
    "                    batch_data[folder,idx,:,:,1] = normalize_image(resized_image[:, : , 1]) #normalise and feed in the image\n",
    "                    batch_data[folder,idx,:,:,2] = normalize_image(resized_image[:, : , 2]) #normalise and feed in the image\n",
    "                    \n",
    "                batch_labels[folder, int(t[folder + (batch*batch_size)].strip().split(';')[2])] = 1\n",
    "            yield batch_data, batch_labels #you yield the batch_data and the batch_labels, remember what does yield do\n",
    "\n",
    "        \n",
    "        # write the code for the remaining data points which are left after full batches\n",
    "        if (len(folder_list) != batch_size*num_batches):\n",
    "            batch_size = len(folder_list) - (batch_size*num_batches)\n",
    "            batch_data = np.zeros((batch_size,x,y,z,3)) # x is the number of images you use for each video, (y,z) is the final size of the input images and 3 is the number of channels RGB\n",
    "            batch_labels = np.zeros((batch_size,5)) # batch_labels is the one hot representation of the output\n",
    "            for folder in range(batch_size): # iterate over the batch_size\n",
    "                imgs = os.listdir(source_path+'/'+ t[folder + (batch*batch_size)].split(';')[0]) # read all the images in the folder\n",
    "                for idx,item in enumerate(img_idx): #  Iterate iver the frames/images of a folder to read them in\n",
    "                    image = imread(source_path+'/'+ t[folder + (batch*batch_size)].strip().split(';')[0]+'/'+imgs[item]).astype(np.float32)\n",
    "                    \n",
    "                    #crop the images and resize them. Note that the images are of 2 different shape \n",
    "                    #and the conv3D will throw error if the inputs in a batch have different shapes\n",
    "                    \n",
    "                    batch_data[folder,idx,:,:,0] = normalize_image(resized_image[:, : , 0]) #normalise and feed in the image\n",
    "                    batch_data[folder,idx,:,:,1] = normalize_image(resized_image[:, : , 1]) #normalise and feed in the image\n",
    "                    batch_data[folder,idx,:,:,2] = normalize_image(resized_image[:, : , 2]) #normalise and feed in the image\n",
    "                    \n",
    "                batch_labels[folder, int(t[folder + (batch*batch_size)].strip().split(';')[2])] = 1\n",
    "            yield batch_data, batch_labels #you yield the batch_data and the batch_labels, remember what does yield"
   ]
  },
  {
   "cell_type": "markdown",
   "metadata": {},
   "source": [
    "Note here that a video is represented above in the generator as (number of images, height, width, number of channels). Take this into consideration while creating the model architecture."
   ]
  },
  {
   "cell_type": "code",
   "execution_count": 84,
   "metadata": {},
   "outputs": [
    {
     "name": "stdout",
     "output_type": "stream",
     "text": [
      "# training sequences = 663\n",
      "# validation sequences = 100\n",
      "# epochs = 20\n"
     ]
    }
   ],
   "source": [
    "curr_dt_time = datetime.datetime.now()\n",
    "train_path = 'Project_data/train'\n",
    "val_path = 'Project_data/val'\n",
    "num_train_sequences = len(train_doc)\n",
    "print('# training sequences =', num_train_sequences)\n",
    "num_val_sequences = len(val_doc)\n",
    "print('# validation sequences =', num_val_sequences)\n",
    "num_epochs = 20 # choose the number of epochs\n",
    "print ('# epochs =', num_epochs)"
   ]
  },
  {
   "cell_type": "markdown",
   "metadata": {},
   "source": [
    "## Model\n",
    "Here you make the model using different functionalities that Keras provides. Remember to use `Conv3D` and `MaxPooling3D` and not `Conv2D` and `Maxpooling2D` for a 3D convolution model. You would want to use `TimeDistributed` while building a Conv2D + RNN model. Also remember that the last layer is the softmax. Design the network in such a way that the model is able to give good accuracy on the least number of parameters so that it can fit in the memory of the webcam."
   ]
  },
  {
   "cell_type": "code",
   "execution_count": 1,
   "metadata": {},
   "outputs": [
    {
     "ename": "SyntaxError",
     "evalue": "invalid syntax (<ipython-input-1-d93c2dbb3a27>, line 1)",
     "output_type": "error",
     "traceback": [
      "\u001b[1;36m  File \u001b[1;32m\"<ipython-input-1-d93c2dbb3a27>\"\u001b[1;36m, line \u001b[1;32m1\u001b[0m\n\u001b[1;33m    3D convolution model\u001b[0m\n\u001b[1;37m     ^\u001b[0m\n\u001b[1;31mSyntaxError\u001b[0m\u001b[1;31m:\u001b[0m invalid syntax\n"
     ]
    }
   ],
   "source": [
    "3D convolution model"
   ]
  },
  {
   "cell_type": "code",
   "execution_count": 85,
   "metadata": {},
   "outputs": [],
   "source": [
    "from keras.models import Sequential, Model\n",
    "from keras.layers import Dense, GRU, Flatten, TimeDistributed, Flatten, BatchNormalization, Activation, Dropout\n",
    "from keras.layers.convolutional import Conv3D, MaxPooling3D\n",
    "from keras.callbacks import ModelCheckpoint, ReduceLROnPlateau\n",
    "from keras import optimizers\n",
    "\n",
    "#write your model here\n",
    "# Parameters initialization\n",
    "nb_rows = 120   # X dimension of the image\n",
    "nb_cols = 120   # Y dimesnion of the image\n",
    "#total_frames = 30\n",
    "nb_frames =  30  # lenght of the video frames\n",
    "nb_channel = 3 # numbe rof channels in images 3 for color(RGB) and 1 for Gray\n",
    "\n",
    "nb_filters = [8,16,32,64]\n",
    "nb_dense = [256, 128, 5]\n",
    "\n",
    "# Input\n",
    "input_shape=(nb_frames,nb_rows,nb_cols,nb_channel)\n",
    "\n",
    "# Define model\n",
    "model = Sequential()\n",
    "\n",
    "model.add(Conv3D(nb_filters[0], \n",
    "                 kernel_size=(3,3,3), \n",
    "                 input_shape=input_shape,\n",
    "                 padding='same'))\n",
    "model.add(BatchNormalization())\n",
    "model.add(Activation('relu'))\n",
    "\n",
    "model.add(MaxPooling3D(pool_size=(2,2,2)))\n",
    "\n",
    "model.add(Conv3D(nb_filters[1], \n",
    "                 kernel_size=(3,3,3), \n",
    "                 padding='same'))\n",
    "model.add(BatchNormalization())\n",
    "model.add(Activation('relu'))\n",
    "\n",
    "model.add(MaxPooling3D(pool_size=(2,2,2)))\n",
    "\n",
    "model.add(Conv3D(nb_filters[2], \n",
    "                 kernel_size=(1,3,3), \n",
    "                 padding='same'))\n",
    "model.add(BatchNormalization())\n",
    "model.add(Activation('relu'))\n",
    "\n",
    "model.add(MaxPooling3D(pool_size=(2,2,2)))\n",
    "\n",
    "model.add(Conv3D(nb_filters[2], \n",
    "                 kernel_size=(1,3,3), \n",
    "                 padding='same'))\n",
    "model.add(Activation('relu'))\n",
    "model.add(Dropout(0.25))\n",
    "\n",
    "model.add(MaxPooling3D(pool_size=(2,2,2)))\n",
    "\n",
    "#Flatten Layers\n",
    "model.add(Flatten())\n",
    "\n",
    "model.add(Dense(nb_dense[0], activation='relu'))\n",
    "model.add(Dropout(0.5))\n",
    "\n",
    "model.add(Dense(nb_dense[1], activation='relu'))\n",
    "model.add(Dropout(0.5))\n",
    "\n",
    "#softmax layer\n",
    "model.add(Dense(nb_dense[2], activation='softmax'))"
   ]
  },
  {
   "cell_type": "markdown",
   "metadata": {},
   "source": [
    "Now that you have written the model, the next step is to `compile` the model. When you print the `summary` of the model, you'll see the total number of parameters you have to train."
   ]
  },
  {
   "cell_type": "code",
   "execution_count": 86,
   "metadata": {
    "scrolled": true
   },
   "outputs": [
    {
     "name": "stdout",
     "output_type": "stream",
     "text": [
      "_________________________________________________________________\n",
      "Layer (type)                 Output Shape              Param #   \n",
      "=================================================================\n",
      "conv3d_5 (Conv3D)            (None, 30, 120, 120, 8)   656       \n",
      "_________________________________________________________________\n",
      "batch_normalization_46 (Batc (None, 30, 120, 120, 8)   32        \n",
      "_________________________________________________________________\n",
      "activation_23 (Activation)   (None, 30, 120, 120, 8)   0         \n",
      "_________________________________________________________________\n",
      "max_pooling3d_5 (MaxPooling3 (None, 15, 60, 60, 8)     0         \n",
      "_________________________________________________________________\n",
      "conv3d_6 (Conv3D)            (None, 15, 60, 60, 16)    3472      \n",
      "_________________________________________________________________\n",
      "batch_normalization_47 (Batc (None, 15, 60, 60, 16)    64        \n",
      "_________________________________________________________________\n",
      "activation_24 (Activation)   (None, 15, 60, 60, 16)    0         \n",
      "_________________________________________________________________\n",
      "max_pooling3d_6 (MaxPooling3 (None, 7, 30, 30, 16)     0         \n",
      "_________________________________________________________________\n",
      "conv3d_7 (Conv3D)            (None, 7, 30, 30, 32)     4640      \n",
      "_________________________________________________________________\n",
      "batch_normalization_48 (Batc (None, 7, 30, 30, 32)     128       \n",
      "_________________________________________________________________\n",
      "activation_25 (Activation)   (None, 7, 30, 30, 32)     0         \n",
      "_________________________________________________________________\n",
      "max_pooling3d_7 (MaxPooling3 (None, 3, 15, 15, 32)     0         \n",
      "_________________________________________________________________\n",
      "conv3d_8 (Conv3D)            (None, 3, 15, 15, 32)     9248      \n",
      "_________________________________________________________________\n",
      "activation_26 (Activation)   (None, 3, 15, 15, 32)     0         \n",
      "_________________________________________________________________\n",
      "dropout_23 (Dropout)         (None, 3, 15, 15, 32)     0         \n",
      "_________________________________________________________________\n",
      "max_pooling3d_8 (MaxPooling3 (None, 1, 7, 7, 32)       0         \n",
      "_________________________________________________________________\n",
      "flatten_12 (Flatten)         (None, 1568)              0         \n",
      "_________________________________________________________________\n",
      "dense_18 (Dense)             (None, 256)               401664    \n",
      "_________________________________________________________________\n",
      "dropout_24 (Dropout)         (None, 256)               0         \n",
      "_________________________________________________________________\n",
      "dense_19 (Dense)             (None, 128)               32896     \n",
      "_________________________________________________________________\n",
      "dropout_25 (Dropout)         (None, 128)               0         \n",
      "_________________________________________________________________\n",
      "dense_20 (Dense)             (None, 5)                 645       \n",
      "=================================================================\n",
      "Total params: 453,445\n",
      "Trainable params: 453,333\n",
      "Non-trainable params: 112\n",
      "_________________________________________________________________\n",
      "None\n"
     ]
    }
   ],
   "source": [
    "from keras.optimizers import Adam\n",
    "optimiser = Adam() #write your optimizer\n",
    "model.compile(optimizer=optimiser, loss='categorical_crossentropy', metrics=['categorical_accuracy'])\n",
    "print (model.summary())"
   ]
  },
  {
   "cell_type": "markdown",
   "metadata": {},
   "source": [
    "Let us create the `train_generator` and the `val_generator` which will be used in `.fit_generator`."
   ]
  },
  {
   "cell_type": "code",
   "execution_count": 87,
   "metadata": {},
   "outputs": [],
   "source": [
    "train_generator = generator(train_path, train_doc, batch_size)\n",
    "val_generator = generator(val_path, val_doc, batch_size)"
   ]
  },
  {
   "cell_type": "code",
   "execution_count": 88,
   "metadata": {},
   "outputs": [],
   "source": [
    "model_name = 'model_init' + '_' + str(curr_dt_time).replace(' ','').replace(':','_') + '/'\n",
    "    \n",
    "if not os.path.exists(model_name):\n",
    "    os.mkdir(model_name)\n",
    "        \n",
    "filepath = model_name + 'model-{epoch:05d}-{loss:.5f}-{categorical_accuracy:.5f}-{val_loss:.5f}-{val_categorical_accuracy:.5f}.h5'\n",
    "\n",
    "checkpoint = ModelCheckpoint(filepath, monitor='val_loss', verbose=1, save_best_only=False, save_weights_only=False, mode='auto', period=1)\n",
    "\n",
    "LR = ReduceLROnPlateau(monitor='val_loss', factor=0.5, patience=2, cooldown=1, verbose=1)# write the REducelronplateau code here\n",
    "callbacks_list = [checkpoint, LR]"
   ]
  },
  {
   "cell_type": "markdown",
   "metadata": {},
   "source": [
    "The `steps_per_epoch` and `validation_steps` are used by `fit_generator` to decide the number of next() calls it need to make."
   ]
  },
  {
   "cell_type": "code",
   "execution_count": 89,
   "metadata": {},
   "outputs": [],
   "source": [
    "if (num_train_sequences%batch_size) == 0:\n",
    "    steps_per_epoch = int(num_train_sequences/batch_size)\n",
    "else:\n",
    "    steps_per_epoch = (num_train_sequences//batch_size) + 1\n",
    "\n",
    "if (num_val_sequences%batch_size) == 0:\n",
    "    validation_steps = int(num_val_sequences/batch_size)\n",
    "else:\n",
    "    validation_steps = (num_val_sequences//batch_size) + 1"
   ]
  },
  {
   "cell_type": "markdown",
   "metadata": {},
   "source": [
    "Let us now fit the model. This will start training the model and with the help of the checkpoints, you'll be able to save the model at the end of each epoch."
   ]
  },
  {
   "cell_type": "code",
   "execution_count": 90,
   "metadata": {},
   "outputs": [
    {
     "name": "stdout",
     "output_type": "stream",
     "text": [
      "Source path =  Project_data/val ; batch size = 40\n",
      "Source path =  Project_data/train ; batch size = 40\n",
      "Epoch 1/21\n"
     ]
    },
    {
     "name": "stderr",
     "output_type": "stream",
     "text": [
      "/mnt/disks/user/anaconda3/lib/python3.6/site-packages/ipykernel_launcher.py:13: DeprecationWarning: `imread` is deprecated!\n",
      "`imread` is deprecated in SciPy 1.0.0, and will be removed in 1.2.0.\n",
      "Use ``imageio.imread`` instead.\n",
      "  del sys.path[0]\n",
      "/mnt/disks/user/anaconda3/lib/python3.6/site-packages/ipykernel_launcher.py:5: DeprecationWarning: `imresize` is deprecated!\n",
      "`imresize` is deprecated in SciPy 1.0.0, and will be removed in 1.2.0.\n",
      "Use ``skimage.transform.resize`` instead.\n",
      "  \"\"\"\n"
     ]
    },
    {
     "name": "stdout",
     "output_type": "stream",
     "text": [
      " 1/17 [>.............................] - ETA: 2:53 - loss: 3.1907 - categorical_accuracy: 0.3250"
     ]
    },
    {
     "name": "stderr",
     "output_type": "stream",
     "text": [
      "/mnt/disks/user/anaconda3/lib/python3.6/site-packages/ipykernel_launcher.py:34: DeprecationWarning: `imread` is deprecated!\n",
      "`imread` is deprecated in SciPy 1.0.0, and will be removed in 1.2.0.\n",
      "Use ``imageio.imread`` instead.\n"
     ]
    },
    {
     "name": "stdout",
     "output_type": "stream",
     "text": [
      "17/17 [==============================] - 85s 5s/step - loss: 1.8970 - categorical_accuracy: 0.2634 - val_loss: 1.4946 - val_categorical_accuracy: 0.3100\n",
      "\n",
      "Epoch 00001: saving model to model_init_2020-08-1715_59_41.119511/model-00001-1.90177-0.26244-1.49463-0.31000.h5\n",
      "Epoch 2/21\n",
      "17/17 [==============================] - 43s 3s/step - loss: 1.5275 - categorical_accuracy: 0.2916 - val_loss: 1.5198 - val_categorical_accuracy: 0.2500\n",
      "\n",
      "Epoch 00002: saving model to model_init_2020-08-1715_59_41.119511/model-00002-1.52745-0.29156-1.51982-0.25000.h5\n",
      "Epoch 3/21\n",
      "17/17 [==============================] - 42s 2s/step - loss: 1.4311 - categorical_accuracy: 0.3720 - val_loss: 1.2452 - val_categorical_accuracy: 0.5500\n",
      "\n",
      "Epoch 00003: saving model to model_init_2020-08-1715_59_41.119511/model-00003-1.43320-0.37330-1.24516-0.55000.h5\n",
      "Epoch 4/21\n",
      "17/17 [==============================] - 39s 2s/step - loss: 1.3254 - categorical_accuracy: 0.3808 - val_loss: 1.1883 - val_categorical_accuracy: 0.4833\n",
      "\n",
      "Epoch 00004: saving model to model_init_2020-08-1715_59_41.119511/model-00004-1.32543-0.38080-1.18827-0.48333.h5\n",
      "Epoch 5/21\n",
      "17/17 [==============================] - 36s 2s/step - loss: 1.3340 - categorical_accuracy: 0.3815 - val_loss: 1.4678 - val_categorical_accuracy: 0.2833\n",
      "\n",
      "Epoch 00005: saving model to model_init_2020-08-1715_59_41.119511/model-00005-1.33289-0.38339-1.46783-0.28333.h5\n",
      "Epoch 6/21\n",
      "17/17 [==============================] - 34s 2s/step - loss: 1.3204 - categorical_accuracy: 0.4256 - val_loss: 1.2349 - val_categorical_accuracy: 0.6000\n",
      "\n",
      "Epoch 00006: saving model to model_init_2020-08-1715_59_41.119511/model-00006-1.32038-0.42561-1.23492-0.60000.h5\n",
      "\n",
      "Epoch 00006: ReduceLROnPlateau reducing learning rate to 0.0005000000237487257.\n",
      "Epoch 7/21\n",
      "17/17 [==============================] - 32s 2s/step - loss: 1.1216 - categorical_accuracy: 0.5363 - val_loss: 1.0963 - val_categorical_accuracy: 0.5500\n",
      "\n",
      "Epoch 00007: saving model to model_init_2020-08-1715_59_41.119511/model-00007-1.12159-0.53633-1.09635-0.55000.h5\n",
      "Epoch 8/21\n",
      "17/17 [==============================] - 35s 2s/step - loss: 1.1339 - categorical_accuracy: 0.5156 - val_loss: 1.0801 - val_categorical_accuracy: 0.6167\n",
      "\n",
      "Epoch 00008: saving model to model_init_2020-08-1715_59_41.119511/model-00008-1.13394-0.51557-1.08005-0.61667.h5\n",
      "Epoch 9/21\n",
      "17/17 [==============================] - 33s 2s/step - loss: 1.0398 - categorical_accuracy: 0.5744 - val_loss: 1.0660 - val_categorical_accuracy: 0.6500\n",
      "\n",
      "Epoch 00009: saving model to model_init_2020-08-1715_59_41.119511/model-00009-1.03985-0.57439-1.06604-0.65000.h5\n",
      "Epoch 10/21\n",
      "17/17 [==============================] - 32s 2s/step - loss: 0.9578 - categorical_accuracy: 0.6298 - val_loss: 0.7619 - val_categorical_accuracy: 0.7833\n",
      "\n",
      "Epoch 00010: saving model to model_init_2020-08-1715_59_41.119511/model-00010-0.95775-0.62976-0.76195-0.78333.h5\n",
      "Epoch 11/21\n",
      "17/17 [==============================] - 34s 2s/step - loss: 0.9532 - categorical_accuracy: 0.6263 - val_loss: 0.9300 - val_categorical_accuracy: 0.7167\n",
      "\n",
      "Epoch 00011: saving model to model_init_2020-08-1715_59_41.119511/model-00011-0.95324-0.62630-0.93000-0.71667.h5\n",
      "Epoch 12/21\n",
      "17/17 [==============================] - 35s 2s/step - loss: 0.8697 - categorical_accuracy: 0.6332 - val_loss: 0.9049 - val_categorical_accuracy: 0.6833\n",
      "\n",
      "Epoch 00012: saving model to model_init_2020-08-1715_59_41.119511/model-00012-0.86966-0.63322-0.90486-0.68333.h5\n",
      "\n",
      "Epoch 00012: ReduceLROnPlateau reducing learning rate to 0.0002500000118743628.\n",
      "Epoch 13/21\n",
      "17/17 [==============================] - 33s 2s/step - loss: 0.8108 - categorical_accuracy: 0.6644 - val_loss: 0.9722 - val_categorical_accuracy: 0.6667\n",
      "\n",
      "Epoch 00013: saving model to model_init_2020-08-1715_59_41.119511/model-00013-0.81075-0.66436-0.97224-0.66667.h5\n",
      "Epoch 14/21\n",
      "17/17 [==============================] - 34s 2s/step - loss: 0.7702 - categorical_accuracy: 0.7370 - val_loss: 0.7961 - val_categorical_accuracy: 0.7500\n",
      "\n",
      "Epoch 00014: saving model to model_init_2020-08-1715_59_41.119511/model-00014-0.77019-0.73702-0.79610-0.75000.h5\n",
      "\n",
      "Epoch 00014: ReduceLROnPlateau reducing learning rate to 0.0001250000059371814.\n",
      "Epoch 15/21\n",
      "17/17 [==============================] - 34s 2s/step - loss: 0.6893 - categorical_accuracy: 0.7301 - val_loss: 0.8851 - val_categorical_accuracy: 0.7000\n",
      "\n",
      "Epoch 00015: saving model to model_init_2020-08-1715_59_41.119511/model-00015-0.68927-0.73010-0.88509-0.70000.h5\n",
      "Epoch 16/21\n",
      "17/17 [==============================] - 35s 2s/step - loss: 0.7223 - categorical_accuracy: 0.7128 - val_loss: 0.8450 - val_categorical_accuracy: 0.7500\n",
      "\n",
      "Epoch 00016: saving model to model_init_2020-08-1715_59_41.119511/model-00016-0.72232-0.71280-0.84498-0.75000.h5\n",
      "\n",
      "Epoch 00016: ReduceLROnPlateau reducing learning rate to 6.25000029685907e-05.\n",
      "Epoch 17/21\n",
      "17/17 [==============================] - 33s 2s/step - loss: 0.7198 - categorical_accuracy: 0.7301 - val_loss: 0.8228 - val_categorical_accuracy: 0.7167\n",
      "\n",
      "Epoch 00017: saving model to model_init_2020-08-1715_59_41.119511/model-00017-0.71985-0.73010-0.82279-0.71667.h5\n",
      "Epoch 18/21\n",
      "17/17 [==============================] - 33s 2s/step - loss: 0.6801 - categorical_accuracy: 0.7301 - val_loss: 0.6750 - val_categorical_accuracy: 0.8333\n",
      "\n",
      "Epoch 00018: saving model to model_init_2020-08-1715_59_41.119511/model-00018-0.68011-0.73010-0.67505-0.83333.h5\n",
      "Epoch 19/21\n",
      "17/17 [==============================] - 32s 2s/step - loss: 0.6730 - categorical_accuracy: 0.7336 - val_loss: 0.6408 - val_categorical_accuracy: 0.7833\n",
      "\n",
      "Epoch 00019: saving model to model_init_2020-08-1715_59_41.119511/model-00019-0.67303-0.73356-0.64079-0.78333.h5\n",
      "Epoch 20/21\n",
      "17/17 [==============================] - 34s 2s/step - loss: 0.6335 - categorical_accuracy: 0.7612 - val_loss: 0.7994 - val_categorical_accuracy: 0.7333\n",
      "\n",
      "Epoch 00020: saving model to model_init_2020-08-1715_59_41.119511/model-00020-0.63345-0.76125-0.79939-0.73333.h5\n",
      "Epoch 21/21\n",
      "17/17 [==============================] - 34s 2s/step - loss: 0.7033 - categorical_accuracy: 0.7509 - val_loss: 0.6878 - val_categorical_accuracy: 0.7833\n",
      "\n",
      "Epoch 00021: saving model to model_init_2020-08-1715_59_41.119511/model-00021-0.70325-0.75087-0.68776-0.78333.h5\n",
      "\n",
      "Epoch 00021: ReduceLROnPlateau reducing learning rate to 3.125000148429535e-05.\n"
     ]
    },
    {
     "data": {
      "text/plain": [
       "<keras.callbacks.History at 0x7efb50008ba8>"
      ]
     },
     "execution_count": 90,
     "metadata": {},
     "output_type": "execute_result"
    }
   ],
   "source": [
    "batch_size = 40\n",
    "\n",
    "num_epochs = 21\n",
    "model.fit_generator(train_generator, steps_per_epoch=steps_per_epoch, epochs=num_epochs, verbose=1, \n",
    "                    callbacks=callbacks_list, validation_data=val_generator, \n",
    "                    validation_steps=validation_steps, class_weight=None, workers=1, initial_epoch=0)"
   ]
  },
  {
   "cell_type": "code",
   "execution_count": 91,
   "metadata": {},
   "outputs": [
    {
     "name": "stdout",
     "output_type": "stream",
     "text": [
      "Epoch 1/10\n"
     ]
    },
    {
     "name": "stderr",
     "output_type": "stream",
     "text": [
      "/mnt/disks/user/anaconda3/lib/python3.6/site-packages/ipykernel_launcher.py:13: DeprecationWarning: `imread` is deprecated!\n",
      "`imread` is deprecated in SciPy 1.0.0, and will be removed in 1.2.0.\n",
      "Use ``imageio.imread`` instead.\n",
      "  del sys.path[0]\n",
      "/mnt/disks/user/anaconda3/lib/python3.6/site-packages/ipykernel_launcher.py:5: DeprecationWarning: `imresize` is deprecated!\n",
      "`imresize` is deprecated in SciPy 1.0.0, and will be removed in 1.2.0.\n",
      "Use ``skimage.transform.resize`` instead.\n",
      "  \"\"\"\n"
     ]
    },
    {
     "name": "stdout",
     "output_type": "stream",
     "text": [
      "17/17 [==============================] - 39s 2s/step - loss: 0.5952 - categorical_accuracy: 0.7820 - val_loss: 0.7058 - val_categorical_accuracy: 0.7500\n",
      "\n",
      "Epoch 00001: saving model to model_init_2020-08-1715_59_41.119511/model-00001-0.59521-0.78201-0.70580-0.75000.h5\n",
      "Epoch 2/10\n",
      "17/17 [==============================] - 33s 2s/step - loss: 0.5701 - categorical_accuracy: 0.7958 - val_loss: 0.6190 - val_categorical_accuracy: 0.8167\n",
      "\n",
      "Epoch 00002: saving model to model_init_2020-08-1715_59_41.119511/model-00002-0.57007-0.79585-0.61903-0.81667.h5\n",
      "Epoch 3/10\n",
      "17/17 [==============================] - 34s 2s/step - loss: 0.6353 - categorical_accuracy: 0.7439 - val_loss: 0.7683 - val_categorical_accuracy: 0.7167\n",
      "\n",
      "Epoch 00003: saving model to model_init_2020-08-1715_59_41.119511/model-00003-0.63534-0.74394-0.76832-0.71667.h5\n",
      "Epoch 4/10\n",
      "17/17 [==============================] - 34s 2s/step - loss: 0.5865 - categorical_accuracy: 0.7543 - val_loss: 0.5563 - val_categorical_accuracy: 0.8167\n",
      "\n",
      "Epoch 00004: saving model to model_init_2020-08-1715_59_41.119511/model-00004-0.58652-0.75433-0.55625-0.81667.h5\n",
      "Epoch 5/10\n",
      "17/17 [==============================] - 33s 2s/step - loss: 0.6387 - categorical_accuracy: 0.7474 - val_loss: 0.7019 - val_categorical_accuracy: 0.7833\n",
      "\n",
      "Epoch 00005: saving model to model_init_2020-08-1715_59_41.119511/model-00005-0.63873-0.74740-0.70189-0.78333.h5\n",
      "Epoch 6/10\n",
      "17/17 [==============================] - 34s 2s/step - loss: 0.5853 - categorical_accuracy: 0.7716 - val_loss: 0.6725 - val_categorical_accuracy: 0.7500\n",
      "\n",
      "Epoch 00006: saving model to model_init_2020-08-1715_59_41.119511/model-00006-0.58535-0.77163-0.67254-0.75000.h5\n",
      "\n",
      "Epoch 00006: ReduceLROnPlateau reducing learning rate to 1.5625000742147677e-05.\n",
      "Epoch 7/10\n",
      "17/17 [==============================] - 33s 2s/step - loss: 0.6279 - categorical_accuracy: 0.7682 - val_loss: 0.7054 - val_categorical_accuracy: 0.7667\n",
      "\n",
      "Epoch 00007: saving model to model_init_2020-08-1715_59_41.119511/model-00007-0.62792-0.76817-0.70544-0.76667.h5\n",
      "Epoch 8/10\n",
      "17/17 [==============================] - 33s 2s/step - loss: 0.6096 - categorical_accuracy: 0.7370 - val_loss: 0.6411 - val_categorical_accuracy: 0.7667\n",
      "\n",
      "Epoch 00008: saving model to model_init_2020-08-1715_59_41.119511/model-00008-0.60958-0.73702-0.64110-0.76667.h5\n",
      "\n",
      "Epoch 00008: ReduceLROnPlateau reducing learning rate to 7.812500371073838e-06.\n",
      "Epoch 9/10\n",
      "17/17 [==============================] - 35s 2s/step - loss: 0.6237 - categorical_accuracy: 0.7716 - val_loss: 0.6881 - val_categorical_accuracy: 0.7833\n",
      "\n",
      "Epoch 00009: saving model to model_init_2020-08-1715_59_41.119511/model-00009-0.62365-0.77163-0.68814-0.78333.h5\n",
      "Epoch 10/10\n",
      "17/17 [==============================] - 34s 2s/step - loss: 0.6208 - categorical_accuracy: 0.7543 - val_loss: 0.6447 - val_categorical_accuracy: 0.8167\n",
      "\n",
      "Epoch 00010: saving model to model_init_2020-08-1715_59_41.119511/model-00010-0.62079-0.75433-0.64471-0.81667.h5\n",
      "\n",
      "Epoch 00010: ReduceLROnPlateau reducing learning rate to 3.906250185536919e-06.\n"
     ]
    },
    {
     "data": {
      "text/plain": [
       "<keras.callbacks.History at 0x7efb4e7602e8>"
      ]
     },
     "execution_count": 91,
     "metadata": {},
     "output_type": "execute_result"
    }
   ],
   "source": [
    "batch_size = 50\n",
    "num_epochs = 10\n",
    "model.fit_generator(train_generator, steps_per_epoch=steps_per_epoch, epochs=num_epochs, verbose=1, \n",
    "                    callbacks=callbacks_list, validation_data=val_generator, \n",
    "                    validation_steps=validation_steps, class_weight=None, workers=1, initial_epoch=0)"
   ]
  },
  {
   "cell_type": "code",
   "execution_count": 93,
   "metadata": {},
   "outputs": [
    {
     "name": "stdout",
     "output_type": "stream",
     "text": [
      "Source path =  Project_data/val ; batch size = 50\n",
      "Source path =  Project_data/train ; batch size = 50\n",
      "Epoch 1/20\n"
     ]
    },
    {
     "name": "stderr",
     "output_type": "stream",
     "text": [
      "/mnt/disks/user/anaconda3/lib/python3.6/site-packages/ipykernel_launcher.py:13: DeprecationWarning: `imread` is deprecated!\n",
      "`imread` is deprecated in SciPy 1.0.0, and will be removed in 1.2.0.\n",
      "Use ``imageio.imread`` instead.\n",
      "  del sys.path[0]\n",
      "/mnt/disks/user/anaconda3/lib/python3.6/site-packages/ipykernel_launcher.py:5: DeprecationWarning: `imresize` is deprecated!\n",
      "`imresize` is deprecated in SciPy 1.0.0, and will be removed in 1.2.0.\n",
      "Use ``skimage.transform.resize`` instead.\n",
      "  \"\"\"\n"
     ]
    },
    {
     "name": "stdout",
     "output_type": "stream",
     "text": [
      "12/17 [====================>.........] - ETA: 34s - loss: 0.6069 - categorical_accuracy: 0.7467"
     ]
    },
    {
     "name": "stderr",
     "output_type": "stream",
     "text": [
      "/mnt/disks/user/anaconda3/lib/python3.6/site-packages/ipykernel_launcher.py:34: DeprecationWarning: `imread` is deprecated!\n",
      "`imread` is deprecated in SciPy 1.0.0, and will be removed in 1.2.0.\n",
      "Use ``imageio.imread`` instead.\n"
     ]
    },
    {
     "name": "stdout",
     "output_type": "stream",
     "text": [
      "17/17 [==============================] - 95s 6s/step - loss: 0.6913 - categorical_accuracy: 0.7011 - val_loss: 0.6550 - val_categorical_accuracy: 0.7933\n",
      "\n",
      "Epoch 00001: saving model to model_init_2020-08-1715_59_41.119511/model-00001-0.63609-0.72934-0.65503-0.79333.h5\n",
      "Epoch 2/20\n",
      "17/17 [==============================] - 30s 2s/step - loss: 0.6227 - categorical_accuracy: 0.7783 - val_loss: 0.6816 - val_categorical_accuracy: 0.7667\n",
      "\n",
      "Epoch 00002: saving model to model_init_2020-08-1715_59_41.119511/model-00002-0.62268-0.77828-0.68157-0.76667.h5\n",
      "Epoch 3/20\n",
      "17/17 [==============================] - 30s 2s/step - loss: 0.6218 - categorical_accuracy: 0.7557 - val_loss: 0.6645 - val_categorical_accuracy: 0.7867\n",
      "\n",
      "Epoch 00003: saving model to model_init_2020-08-1715_59_41.119511/model-00003-0.62182-0.75566-0.66450-0.78667.h5\n",
      "\n",
      "Epoch 00003: ReduceLROnPlateau reducing learning rate to 3.051757957450718e-08.\n",
      "Epoch 4/20\n",
      "17/17 [==============================] - 29s 2s/step - loss: 0.6716 - categorical_accuracy: 0.7014 - val_loss: 0.6724 - val_categorical_accuracy: 0.7733\n",
      "\n",
      "Epoch 00004: saving model to model_init_2020-08-1715_59_41.119511/model-00004-0.67160-0.70136-0.67239-0.77333.h5\n",
      "Epoch 5/20\n",
      "17/17 [==============================] - 30s 2s/step - loss: 0.6212 - categorical_accuracy: 0.7873 - val_loss: 0.6837 - val_categorical_accuracy: 0.7800\n",
      "\n",
      "Epoch 00005: saving model to model_init_2020-08-1715_59_41.119511/model-00005-0.62121-0.78733-0.68372-0.78000.h5\n",
      "\n",
      "Epoch 00005: ReduceLROnPlateau reducing learning rate to 1.525878978725359e-08.\n",
      "Epoch 6/20\n",
      "17/17 [==============================] - 30s 2s/step - loss: 0.6366 - categorical_accuracy: 0.7828 - val_loss: 0.6516 - val_categorical_accuracy: 0.7800\n",
      "\n",
      "Epoch 00006: saving model to model_init_2020-08-1715_59_41.119511/model-00006-0.63662-0.78281-0.65164-0.78000.h5\n",
      "Epoch 7/20\n",
      "17/17 [==============================] - 29s 2s/step - loss: 0.6604 - categorical_accuracy: 0.7421 - val_loss: 0.6891 - val_categorical_accuracy: 0.7800\n",
      "\n",
      "Epoch 00007: saving model to model_init_2020-08-1715_59_41.119511/model-00007-0.66038-0.74208-0.68913-0.78000.h5\n",
      "Epoch 8/20\n",
      "17/17 [==============================] - 30s 2s/step - loss: 0.6091 - categorical_accuracy: 0.7376 - val_loss: 0.6475 - val_categorical_accuracy: 0.7800\n",
      "\n",
      "Epoch 00008: saving model to model_init_2020-08-1715_59_41.119511/model-00008-0.60914-0.73756-0.64751-0.78000.h5\n",
      "Epoch 9/20\n",
      "17/17 [==============================] - 29s 2s/step - loss: 0.6518 - categorical_accuracy: 0.7285 - val_loss: 0.7004 - val_categorical_accuracy: 0.7800\n",
      "\n",
      "Epoch 00009: saving model to model_init_2020-08-1715_59_41.119511/model-00009-0.65177-0.72851-0.70036-0.78000.h5\n",
      "Epoch 10/20\n",
      "17/17 [==============================] - 31s 2s/step - loss: 0.5720 - categorical_accuracy: 0.8009 - val_loss: 0.6369 - val_categorical_accuracy: 0.7800\n",
      "\n",
      "Epoch 00010: saving model to model_init_2020-08-1715_59_41.119511/model-00010-0.57200-0.80090-0.63693-0.78000.h5\n",
      "Epoch 11/20\n",
      "17/17 [==============================] - 29s 2s/step - loss: 0.6009 - categorical_accuracy: 0.7919 - val_loss: 0.7141 - val_categorical_accuracy: 0.7467\n",
      "\n",
      "Epoch 00011: saving model to model_init_2020-08-1715_59_41.119511/model-00011-0.60088-0.79186-0.71409-0.74667.h5\n",
      "Epoch 12/20\n",
      "17/17 [==============================] - 29s 2s/step - loss: 0.6228 - categorical_accuracy: 0.7511 - val_loss: 0.6232 - val_categorical_accuracy: 0.8133\n",
      "\n",
      "Epoch 00012: saving model to model_init_2020-08-1715_59_41.119511/model-00012-0.62281-0.75113-0.62318-0.81333.h5\n",
      "Epoch 13/20\n",
      "17/17 [==============================] - 29s 2s/step - loss: 0.6348 - categorical_accuracy: 0.7647 - val_loss: 0.6418 - val_categorical_accuracy: 0.7800\n",
      "\n",
      "Epoch 00013: saving model to model_init_2020-08-1715_59_41.119511/model-00013-0.63479-0.76471-0.64177-0.78000.h5\n",
      "Epoch 14/20\n",
      "17/17 [==============================] - 29s 2s/step - loss: 0.6620 - categorical_accuracy: 0.7195 - val_loss: 0.6917 - val_categorical_accuracy: 0.7667\n",
      "\n",
      "Epoch 00014: saving model to model_init_2020-08-1715_59_41.119511/model-00014-0.66196-0.71946-0.69166-0.76667.h5\n",
      "\n",
      "Epoch 00014: ReduceLROnPlateau reducing learning rate to 7.629394893626795e-09.\n",
      "Epoch 15/20\n",
      "17/17 [==============================] - 28s 2s/step - loss: 0.5551 - categorical_accuracy: 0.7873 - val_loss: 0.7015 - val_categorical_accuracy: 0.7800\n",
      "\n",
      "Epoch 00015: saving model to model_init_2020-08-1715_59_41.119511/model-00015-0.55512-0.78733-0.70145-0.78000.h5\n",
      "Epoch 16/20\n",
      "17/17 [==============================] - 31s 2s/step - loss: 0.5747 - categorical_accuracy: 0.7828 - val_loss: 0.6325 - val_categorical_accuracy: 0.7800\n",
      "\n",
      "Epoch 00016: saving model to model_init_2020-08-1715_59_41.119511/model-00016-0.57470-0.78281-0.63247-0.78000.h5\n",
      "\n",
      "Epoch 00016: ReduceLROnPlateau reducing learning rate to 3.814697446813398e-09.\n",
      "Epoch 17/20\n",
      "17/17 [==============================] - 29s 2s/step - loss: 0.5959 - categorical_accuracy: 0.7828 - val_loss: 0.6756 - val_categorical_accuracy: 0.7800\n",
      "\n",
      "Epoch 00017: saving model to model_init_2020-08-1715_59_41.119511/model-00017-0.59592-0.78281-0.67559-0.78000.h5\n",
      "Epoch 18/20\n",
      "17/17 [==============================] - 28s 2s/step - loss: 0.5914 - categorical_accuracy: 0.7919 - val_loss: 0.6590 - val_categorical_accuracy: 0.7800\n",
      "\n",
      "Epoch 00018: saving model to model_init_2020-08-1715_59_41.119511/model-00018-0.59139-0.79186-0.65901-0.78000.h5\n",
      "\n",
      "Epoch 00018: ReduceLROnPlateau reducing learning rate to 1.907348723406699e-09.\n",
      "Epoch 19/20\n",
      "17/17 [==============================] - 30s 2s/step - loss: 0.5773 - categorical_accuracy: 0.7602 - val_loss: 0.6701 - val_categorical_accuracy: 0.7733\n",
      "\n",
      "Epoch 00019: saving model to model_init_2020-08-1715_59_41.119511/model-00019-0.57728-0.76018-0.67010-0.77333.h5\n",
      "Epoch 20/20\n",
      "17/17 [==============================] - 29s 2s/step - loss: 0.5906 - categorical_accuracy: 0.7738 - val_loss: 0.6640 - val_categorical_accuracy: 0.7867\n",
      "\n",
      "Epoch 00020: saving model to model_init_2020-08-1715_59_41.119511/model-00020-0.59061-0.77376-0.66397-0.78667.h5\n",
      "\n",
      "Epoch 00020: ReduceLROnPlateau reducing learning rate to 9.536743617033494e-10.\n"
     ]
    },
    {
     "data": {
      "text/plain": [
       "<keras.callbacks.History at 0x7efb4dc065c0>"
      ]
     },
     "execution_count": 93,
     "metadata": {},
     "output_type": "execute_result"
    }
   ],
   "source": [
    "batch_size = 50\n",
    "num_epochs = 20\n",
    "\n",
    "train_generator = generator(train_path, train_doc, batch_size)\n",
    "val_generator = generator(val_path, val_doc, batch_size)\n",
    "\n",
    "model.fit_generator(train_generator, steps_per_epoch=steps_per_epoch, epochs=num_epochs, verbose=1, \n",
    "                    callbacks=callbacks_list, validation_data=val_generator, \n",
    "                    validation_steps=validation_steps, class_weight=None, workers=1, initial_epoch=0)"
   ]
  },
  {
   "cell_type": "code",
   "execution_count": 94,
   "metadata": {},
   "outputs": [
    {
     "name": "stdout",
     "output_type": "stream",
     "text": [
      "Source path =  Project_data/val ; batch size = 55\n",
      "Source path =  Project_data/train ; batch size = 55\n",
      "Epoch 1/10\n"
     ]
    },
    {
     "name": "stderr",
     "output_type": "stream",
     "text": [
      "/mnt/disks/user/anaconda3/lib/python3.6/site-packages/ipykernel_launcher.py:13: DeprecationWarning: `imread` is deprecated!\n",
      "`imread` is deprecated in SciPy 1.0.0, and will be removed in 1.2.0.\n",
      "Use ``imageio.imread`` instead.\n",
      "  del sys.path[0]\n",
      "/mnt/disks/user/anaconda3/lib/python3.6/site-packages/ipykernel_launcher.py:5: DeprecationWarning: `imresize` is deprecated!\n",
      "`imresize` is deprecated in SciPy 1.0.0, and will be removed in 1.2.0.\n",
      "Use ``skimage.transform.resize`` instead.\n",
      "  \"\"\"\n",
      "/mnt/disks/user/anaconda3/lib/python3.6/site-packages/ipykernel_launcher.py:34: DeprecationWarning: `imread` is deprecated!\n",
      "`imread` is deprecated in SciPy 1.0.0, and will be removed in 1.2.0.\n",
      "Use ``imageio.imread`` instead.\n"
     ]
    },
    {
     "name": "stdout",
     "output_type": "stream",
     "text": [
      "17/17 [==============================] - 85s 5s/step - loss: 0.6959 - categorical_accuracy: 0.7081 - val_loss: 1.2257 - val_categorical_accuracy: 0.5862\n",
      "\n",
      "Epoch 00001: saving model to model_init_2020-08-1715_59_41.119511/model-00001-0.62464-0.77037-1.22572-0.58621.h5\n",
      "Epoch 2/10\n",
      "17/17 [==============================] - 6s 327ms/step - loss: 0.8236 - categorical_accuracy: 0.6078 - val_loss: 0.7406 - val_categorical_accuracy: 0.7385\n",
      "\n",
      "Epoch 00002: saving model to model_init_2020-08-1715_59_41.119511/model-00002-0.82358-0.60784-0.74060-0.73846.h5\n",
      "Epoch 3/10\n",
      "17/17 [==============================] - 7s 393ms/step - loss: 0.8339 - categorical_accuracy: 0.6667 - val_loss: 0.6259 - val_categorical_accuracy: 0.8333\n",
      "\n",
      "Epoch 00003: saving model to model_init_2020-08-1715_59_41.119511/model-00003-0.83392-0.66667-0.62589-0.83333.h5\n",
      "Epoch 4/10\n",
      "17/17 [==============================] - 7s 417ms/step - loss: 0.8292 - categorical_accuracy: 0.6667 - val_loss: 0.6562 - val_categorical_accuracy: 0.8000\n",
      "\n",
      "Epoch 00004: saving model to model_init_2020-08-1715_59_41.119511/model-00004-0.82916-0.66667-0.65622-0.80000.h5\n",
      "Epoch 5/10\n",
      "17/17 [==============================] - 7s 427ms/step - loss: 0.5874 - categorical_accuracy: 0.7843 - val_loss: 0.7409 - val_categorical_accuracy: 0.7333\n",
      "\n",
      "Epoch 00005: saving model to model_init_2020-08-1715_59_41.119511/model-00005-0.58737-0.78431-0.74095-0.73333.h5\n",
      "\n",
      "Epoch 00005: ReduceLROnPlateau reducing learning rate to 4.768371808516747e-10.\n",
      "Epoch 6/10\n",
      "17/17 [==============================] - 7s 387ms/step - loss: 0.8056 - categorical_accuracy: 0.6863 - val_loss: 0.6585 - val_categorical_accuracy: 0.7667\n",
      "\n",
      "Epoch 00006: saving model to model_init_2020-08-1715_59_41.119511/model-00006-0.80563-0.68627-0.65853-0.76667.h5\n",
      "Epoch 7/10\n",
      "17/17 [==============================] - 7s 420ms/step - loss: 0.5491 - categorical_accuracy: 0.7843 - val_loss: 0.8219 - val_categorical_accuracy: 0.7000\n",
      "\n",
      "Epoch 00007: saving model to model_init_2020-08-1715_59_41.119511/model-00007-0.54908-0.78431-0.82192-0.70000.h5\n",
      "\n",
      "Epoch 00007: ReduceLROnPlateau reducing learning rate to 2.3841859042583735e-10.\n",
      "Epoch 8/10\n",
      "17/17 [==============================] - 6s 355ms/step - loss: 0.8288 - categorical_accuracy: 0.6863 - val_loss: 0.5476 - val_categorical_accuracy: 0.8667\n",
      "\n",
      "Epoch 00008: saving model to model_init_2020-08-1715_59_41.119511/model-00008-0.82877-0.68627-0.54764-0.86667.h5\n",
      "Epoch 9/10\n",
      "17/17 [==============================] - 7s 406ms/step - loss: 0.7663 - categorical_accuracy: 0.6667 - val_loss: 0.7125 - val_categorical_accuracy: 0.7333\n",
      "\n",
      "Epoch 00009: saving model to model_init_2020-08-1715_59_41.119511/model-00009-0.76631-0.66667-0.71249-0.73333.h5\n",
      "Epoch 10/10\n",
      "17/17 [==============================] - 6s 353ms/step - loss: 0.6832 - categorical_accuracy: 0.7059 - val_loss: 0.6167 - val_categorical_accuracy: 0.8333\n",
      "\n",
      "Epoch 00010: saving model to model_init_2020-08-1715_59_41.119511/model-00010-0.68316-0.70588-0.61675-0.83333.h5\n",
      "\n",
      "Epoch 00010: ReduceLROnPlateau reducing learning rate to 1.1920929521291868e-10.\n"
     ]
    },
    {
     "data": {
      "text/plain": [
       "<keras.callbacks.History at 0x7efb4dc11e80>"
      ]
     },
     "execution_count": 94,
     "metadata": {},
     "output_type": "execute_result"
    }
   ],
   "source": [
    "batch_size = 55\n",
    "num_epochs = 10\n",
    "\n",
    "train_generator = generator(train_path, train_doc, batch_size)\n",
    "val_generator = generator(val_path, val_doc, batch_size)\n",
    "\n",
    "model.fit_generator(train_generator, steps_per_epoch=steps_per_epoch, epochs=num_epochs, verbose=1, \n",
    "                    callbacks=callbacks_list, validation_data=val_generator, \n",
    "                    validation_steps=validation_steps, class_weight=None, workers=1, initial_epoch=0)"
   ]
  },
  {
   "cell_type": "code",
   "execution_count": 95,
   "metadata": {},
   "outputs": [
    {
     "name": "stdout",
     "output_type": "stream",
     "text": [
      "Source path =  Project_data/val ; batch size = 55\n",
      "Source path =  Project_data/train ; batch size = 55\n",
      "Epoch 1/20\n"
     ]
    },
    {
     "name": "stderr",
     "output_type": "stream",
     "text": [
      "/mnt/disks/user/anaconda3/lib/python3.6/site-packages/ipykernel_launcher.py:13: DeprecationWarning: `imread` is deprecated!\n",
      "`imread` is deprecated in SciPy 1.0.0, and will be removed in 1.2.0.\n",
      "Use ``imageio.imread`` instead.\n",
      "  del sys.path[0]\n",
      "/mnt/disks/user/anaconda3/lib/python3.6/site-packages/ipykernel_launcher.py:5: DeprecationWarning: `imresize` is deprecated!\n",
      "`imresize` is deprecated in SciPy 1.0.0, and will be removed in 1.2.0.\n",
      "Use ``skimage.transform.resize`` instead.\n",
      "  \"\"\"\n",
      "/mnt/disks/user/anaconda3/lib/python3.6/site-packages/ipykernel_launcher.py:34: DeprecationWarning: `imread` is deprecated!\n",
      "`imread` is deprecated in SciPy 1.0.0, and will be removed in 1.2.0.\n",
      "Use ``imageio.imread`` instead.\n"
     ]
    },
    {
     "name": "stdout",
     "output_type": "stream",
     "text": [
      "17/17 [==============================] - 85s 5s/step - loss: 0.5725 - categorical_accuracy: 0.8011 - val_loss: 2.0188 - val_categorical_accuracy: 0.6414\n",
      "\n",
      "Epoch 00001: saving model to model_init_2020-08-1715_59_41.119511/model-00001-0.56894-0.80148-2.01879-0.64138.h5\n",
      "Epoch 2/20\n",
      "17/17 [==============================] - 6s 331ms/step - loss: 0.6952 - categorical_accuracy: 0.7647 - val_loss: 0.9401 - val_categorical_accuracy: 0.6154\n",
      "\n",
      "Epoch 00002: saving model to model_init_2020-08-1715_59_41.119511/model-00002-0.69523-0.76471-0.94014-0.61538.h5\n",
      "Epoch 3/20\n",
      "17/17 [==============================] - 7s 385ms/step - loss: 0.6801 - categorical_accuracy: 0.8039 - val_loss: 0.7417 - val_categorical_accuracy: 0.7333\n",
      "\n",
      "Epoch 00003: saving model to model_init_2020-08-1715_59_41.119511/model-00003-0.68007-0.80392-0.74173-0.73333.h5\n",
      "Epoch 4/20\n",
      "17/17 [==============================] - 6s 376ms/step - loss: 0.6748 - categorical_accuracy: 0.7255 - val_loss: 0.5451 - val_categorical_accuracy: 0.8333\n",
      "\n",
      "Epoch 00004: saving model to model_init_2020-08-1715_59_41.119511/model-00004-0.67483-0.72549-0.54511-0.83333.h5\n",
      "Epoch 5/20\n",
      "17/17 [==============================] - 7s 396ms/step - loss: 0.7233 - categorical_accuracy: 0.7647 - val_loss: 0.5893 - val_categorical_accuracy: 0.7667\n",
      "\n",
      "Epoch 00005: saving model to model_init_2020-08-1715_59_41.119511/model-00005-0.72331-0.76471-0.58934-0.76667.h5\n",
      "Epoch 6/20\n",
      "17/17 [==============================] - 6s 373ms/step - loss: 0.5663 - categorical_accuracy: 0.8627 - val_loss: 0.6960 - val_categorical_accuracy: 0.7667\n",
      "\n",
      "Epoch 00006: saving model to model_init_2020-08-1715_59_41.119511/model-00006-0.56629-0.86275-0.69604-0.76667.h5\n",
      "\n",
      "Epoch 00006: ReduceLROnPlateau reducing learning rate to 5.960464760645934e-11.\n",
      "Epoch 7/20\n",
      "17/17 [==============================] - 7s 402ms/step - loss: 0.8188 - categorical_accuracy: 0.6078 - val_loss: 0.6784 - val_categorical_accuracy: 0.7000\n",
      "\n",
      "Epoch 00007: saving model to model_init_2020-08-1715_59_41.119511/model-00007-0.81876-0.60784-0.67843-0.70000.h5\n",
      "Epoch 8/20\n",
      "17/17 [==============================] - 7s 404ms/step - loss: 0.7589 - categorical_accuracy: 0.7255 - val_loss: 0.5646 - val_categorical_accuracy: 0.8667\n",
      "\n",
      "Epoch 00008: saving model to model_init_2020-08-1715_59_41.119511/model-00008-0.75887-0.72549-0.56455-0.86667.h5\n",
      "\n",
      "Epoch 00008: ReduceLROnPlateau reducing learning rate to 2.980232380322967e-11.\n",
      "Epoch 9/20\n",
      "17/17 [==============================] - 6s 377ms/step - loss: 0.8359 - categorical_accuracy: 0.7451 - val_loss: 0.7253 - val_categorical_accuracy: 0.8000\n",
      "\n",
      "Epoch 00009: saving model to model_init_2020-08-1715_59_41.119511/model-00009-0.83591-0.74510-0.72529-0.80000.h5\n",
      "Epoch 10/20\n",
      "17/17 [==============================] - 6s 371ms/step - loss: 0.8443 - categorical_accuracy: 0.6471 - val_loss: 0.6121 - val_categorical_accuracy: 0.7667\n",
      "\n",
      "Epoch 00010: saving model to model_init_2020-08-1715_59_41.119511/model-00010-0.84431-0.64706-0.61214-0.76667.h5\n",
      "\n",
      "Epoch 00010: ReduceLROnPlateau reducing learning rate to 1.4901161901614834e-11.\n",
      "Epoch 11/20\n",
      "17/17 [==============================] - 6s 369ms/step - loss: 0.5687 - categorical_accuracy: 0.7647 - val_loss: 0.5777 - val_categorical_accuracy: 0.8333\n",
      "\n",
      "Epoch 00011: saving model to model_init_2020-08-1715_59_41.119511/model-00011-0.56868-0.76471-0.57771-0.83333.h5\n",
      "Epoch 12/20\n",
      "17/17 [==============================] - 7s 390ms/step - loss: 0.7163 - categorical_accuracy: 0.7255 - val_loss: 0.8167 - val_categorical_accuracy: 0.7333\n",
      "\n",
      "Epoch 00012: saving model to model_init_2020-08-1715_59_41.119511/model-00012-0.71627-0.72549-0.81671-0.73333.h5\n",
      "\n",
      "Epoch 00012: ReduceLROnPlateau reducing learning rate to 7.450580950807417e-12.\n",
      "Epoch 13/20\n",
      "17/17 [==============================] - 7s 415ms/step - loss: 0.4789 - categorical_accuracy: 0.8431 - val_loss: 0.5637 - val_categorical_accuracy: 0.7667\n",
      "\n",
      "Epoch 00013: saving model to model_init_2020-08-1715_59_41.119511/model-00013-0.47885-0.84314-0.56365-0.76667.h5\n",
      "Epoch 14/20\n",
      "17/17 [==============================] - 7s 424ms/step - loss: 0.7668 - categorical_accuracy: 0.7451 - val_loss: 0.7449 - val_categorical_accuracy: 0.8000\n",
      "\n",
      "Epoch 00014: saving model to model_init_2020-08-1715_59_41.119511/model-00014-0.76683-0.74510-0.74489-0.80000.h5\n",
      "\n",
      "Epoch 00014: ReduceLROnPlateau reducing learning rate to 3.725290475403709e-12.\n",
      "Epoch 15/20\n",
      "17/17 [==============================] - 7s 383ms/step - loss: 0.8451 - categorical_accuracy: 0.6863 - val_loss: 0.6979 - val_categorical_accuracy: 0.7667\n",
      "\n",
      "Epoch 00015: saving model to model_init_2020-08-1715_59_41.119511/model-00015-0.84515-0.68627-0.69791-0.76667.h5\n",
      "Epoch 16/20\n",
      "17/17 [==============================] - 6s 354ms/step - loss: 0.7485 - categorical_accuracy: 0.7451 - val_loss: 0.5929 - val_categorical_accuracy: 0.8000\n",
      "\n",
      "Epoch 00016: saving model to model_init_2020-08-1715_59_41.119511/model-00016-0.74850-0.74510-0.59291-0.80000.h5\n",
      "\n",
      "Epoch 00016: ReduceLROnPlateau reducing learning rate to 1.8626452377018543e-12.\n",
      "Epoch 17/20\n",
      "17/17 [==============================] - 7s 425ms/step - loss: 0.8421 - categorical_accuracy: 0.6275 - val_loss: 0.6012 - val_categorical_accuracy: 0.8000\n",
      "\n",
      "Epoch 00017: saving model to model_init_2020-08-1715_59_41.119511/model-00017-0.84211-0.62745-0.60116-0.80000.h5\n",
      "Epoch 18/20\n",
      "17/17 [==============================] - 6s 370ms/step - loss: 0.7666 - categorical_accuracy: 0.6863 - val_loss: 0.8348 - val_categorical_accuracy: 0.7667\n",
      "\n",
      "Epoch 00018: saving model to model_init_2020-08-1715_59_41.119511/model-00018-0.76660-0.68627-0.83484-0.76667.h5\n",
      "\n",
      "Epoch 00018: ReduceLROnPlateau reducing learning rate to 9.313226188509272e-13.\n",
      "Epoch 19/20\n",
      "17/17 [==============================] - 6s 353ms/step - loss: 0.5938 - categorical_accuracy: 0.8039 - val_loss: 0.8054 - val_categorical_accuracy: 0.6333\n",
      "\n",
      "Epoch 00019: saving model to model_init_2020-08-1715_59_41.119511/model-00019-0.59383-0.80392-0.80543-0.63333.h5\n",
      "Epoch 20/20\n",
      "17/17 [==============================] - 6s 378ms/step - loss: 0.6309 - categorical_accuracy: 0.7059 - val_loss: 0.5869 - val_categorical_accuracy: 0.8000\n",
      "\n",
      "Epoch 00020: saving model to model_init_2020-08-1715_59_41.119511/model-00020-0.63088-0.70588-0.58689-0.80000.h5\n",
      "\n",
      "Epoch 00020: ReduceLROnPlateau reducing learning rate to 4.656613094254636e-13.\n"
     ]
    },
    {
     "data": {
      "text/plain": [
       "<keras.callbacks.History at 0x7efb4dc60828>"
      ]
     },
     "execution_count": 95,
     "metadata": {},
     "output_type": "execute_result"
    }
   ],
   "source": [
    "batch_size = 55\n",
    "num_epochs = 20\n",
    "train_generator = generator(train_path, train_doc, batch_size)\n",
    "val_generator = generator(val_path, val_doc, batch_size)\n",
    "\n",
    "model.fit_generator(train_generator, steps_per_epoch=steps_per_epoch, epochs=num_epochs, verbose=1, \n",
    "                    callbacks=callbacks_list, validation_data=val_generator, \n",
    "                    validation_steps=validation_steps, class_weight=None, workers=1, initial_epoch=0)"
   ]
  },
  {
   "cell_type": "code",
   "execution_count": 96,
   "metadata": {},
   "outputs": [
    {
     "name": "stdout",
     "output_type": "stream",
     "text": [
      "Source path =  Project_data/val ; batch size = 50\n",
      "Source path =  Project_data/trainEpoch 1/30 ; batch size = 50\n",
      "\n"
     ]
    },
    {
     "name": "stderr",
     "output_type": "stream",
     "text": [
      "/mnt/disks/user/anaconda3/lib/python3.6/site-packages/ipykernel_launcher.py:13: DeprecationWarning: `imread` is deprecated!\n",
      "`imread` is deprecated in SciPy 1.0.0, and will be removed in 1.2.0.\n",
      "Use ``imageio.imread`` instead.\n",
      "  del sys.path[0]\n",
      "/mnt/disks/user/anaconda3/lib/python3.6/site-packages/ipykernel_launcher.py:5: DeprecationWarning: `imresize` is deprecated!\n",
      "`imresize` is deprecated in SciPy 1.0.0, and will be removed in 1.2.0.\n",
      "Use ``skimage.transform.resize`` instead.\n",
      "  \"\"\"\n"
     ]
    },
    {
     "name": "stdout",
     "output_type": "stream",
     "text": [
      "12/17 [====================>.........] - ETA: 34s - loss: 0.5649 - categorical_accuracy: 0.7700"
     ]
    },
    {
     "name": "stderr",
     "output_type": "stream",
     "text": [
      "/mnt/disks/user/anaconda3/lib/python3.6/site-packages/ipykernel_launcher.py:34: DeprecationWarning: `imread` is deprecated!\n",
      "`imread` is deprecated in SciPy 1.0.0, and will be removed in 1.2.0.\n",
      "Use ``imageio.imread`` instead.\n"
     ]
    },
    {
     "name": "stdout",
     "output_type": "stream",
     "text": [
      "17/17 [==============================] - 94s 6s/step - loss: 0.7390 - categorical_accuracy: 0.7301 - val_loss: 0.7075 - val_categorical_accuracy: 0.7667\n",
      "\n",
      "Epoch 00001: saving model to model_init_2020-08-1715_59_41.119511/model-00001-0.62325-0.75641-0.70750-0.76667.h5\n",
      "Epoch 2/30\n",
      "17/17 [==============================] - 30s 2s/step - loss: 0.6108 - categorical_accuracy: 0.7738 - val_loss: 0.6298 - val_categorical_accuracy: 0.7933\n",
      "\n",
      "Epoch 00002: saving model to model_init_2020-08-1715_59_41.119511/model-00002-0.61085-0.77376-0.62975-0.79333.h5\n",
      "Epoch 3/30\n",
      "17/17 [==============================] - 31s 2s/step - loss: 0.5952 - categorical_accuracy: 0.7421 - val_loss: 0.6488 - val_categorical_accuracy: 0.7867\n",
      "\n",
      "Epoch 00003: saving model to model_init_2020-08-1715_59_41.119511/model-00003-0.59518-0.74208-0.64876-0.78667.h5\n",
      "Epoch 4/30\n",
      "17/17 [==============================] - 28s 2s/step - loss: 0.6116 - categorical_accuracy: 0.7647 - val_loss: 0.6851 - val_categorical_accuracy: 0.7733\n",
      "\n",
      "Epoch 00004: saving model to model_init_2020-08-1715_59_41.119511/model-00004-0.61163-0.76471-0.68510-0.77333.h5\n",
      "\n",
      "Epoch 00004: ReduceLROnPlateau reducing learning rate to 2.328306547127318e-13.\n",
      "Epoch 5/30\n",
      "17/17 [==============================] - 31s 2s/step - loss: 0.6897 - categorical_accuracy: 0.7104 - val_loss: 0.6329 - val_categorical_accuracy: 0.7933\n",
      "\n",
      "Epoch 00005: saving model to model_init_2020-08-1715_59_41.119511/model-00005-0.68974-0.71041-0.63295-0.79333.h5\n",
      "Epoch 6/30\n",
      "17/17 [==============================] - 30s 2s/step - loss: 0.7141 - categorical_accuracy: 0.6923 - val_loss: 0.6996 - val_categorical_accuracy: 0.7667\n",
      "\n",
      "Epoch 00006: saving model to model_init_2020-08-1715_59_41.119511/model-00006-0.71415-0.69231-0.69956-0.76667.h5\n",
      "\n",
      "Epoch 00006: ReduceLROnPlateau reducing learning rate to 1.164153273563659e-13.\n",
      "Epoch 7/30\n",
      "17/17 [==============================] - 27s 2s/step - loss: 0.5788 - categorical_accuracy: 0.7692 - val_loss: 0.6594 - val_categorical_accuracy: 0.7933\n",
      "\n",
      "Epoch 00007: saving model to model_init_2020-08-1715_59_41.119511/model-00007-0.57884-0.76923-0.65941-0.79333.h5\n",
      "Epoch 8/30\n",
      "17/17 [==============================] - 29s 2s/step - loss: 0.6359 - categorical_accuracy: 0.7466 - val_loss: 0.6780 - val_categorical_accuracy: 0.7667\n",
      "\n",
      "Epoch 00008: saving model to model_init_2020-08-1715_59_41.119511/model-00008-0.63585-0.74661-0.67802-0.76667.h5\n",
      "\n",
      "Epoch 00008: ReduceLROnPlateau reducing learning rate to 5.820766367818295e-14.\n",
      "Epoch 9/30\n",
      "17/17 [==============================] - 29s 2s/step - loss: 0.6434 - categorical_accuracy: 0.7376 - val_loss: 0.6391 - val_categorical_accuracy: 0.7933\n",
      "\n",
      "Epoch 00009: saving model to model_init_2020-08-1715_59_41.119511/model-00009-0.64339-0.73756-0.63913-0.79333.h5\n",
      "Epoch 10/30\n",
      "17/17 [==============================] - 30s 2s/step - loss: 0.5673 - categorical_accuracy: 0.7647 - val_loss: 0.6975 - val_categorical_accuracy: 0.7667\n",
      "\n",
      "Epoch 00010: saving model to model_init_2020-08-1715_59_41.119511/model-00010-0.56730-0.76471-0.69748-0.76667.h5\n",
      "\n",
      "Epoch 00010: ReduceLROnPlateau reducing learning rate to 2.9103831839091474e-14.\n",
      "Epoch 11/30\n",
      "17/17 [==============================] - 29s 2s/step - loss: 0.5948 - categorical_accuracy: 0.7511 - val_loss: 0.6407 - val_categorical_accuracy: 0.7933\n",
      "\n",
      "Epoch 00011: saving model to model_init_2020-08-1715_59_41.119511/model-00011-0.59485-0.75113-0.64074-0.79333.h5\n",
      "Epoch 12/30\n",
      "17/17 [==============================] - 30s 2s/step - loss: 0.6721 - categorical_accuracy: 0.7557 - val_loss: 0.6961 - val_categorical_accuracy: 0.7667\n",
      "\n",
      "Epoch 00012: saving model to model_init_2020-08-1715_59_41.119511/model-00012-0.67213-0.75566-0.69612-0.76667.h5\n",
      "\n",
      "Epoch 00012: ReduceLROnPlateau reducing learning rate to 1.4551915919545737e-14.\n",
      "Epoch 13/30\n",
      "17/17 [==============================] - 29s 2s/step - loss: 0.5011 - categorical_accuracy: 0.7964 - val_loss: 0.6655 - val_categorical_accuracy: 0.7800\n",
      "\n",
      "Epoch 00013: saving model to model_init_2020-08-1715_59_41.119511/model-00013-0.50108-0.79638-0.66552-0.78000.h5\n",
      "Epoch 14/30\n",
      "17/17 [==============================] - 29s 2s/step - loss: 0.5844 - categorical_accuracy: 0.7964 - val_loss: 0.6703 - val_categorical_accuracy: 0.7800\n",
      "\n",
      "Epoch 00014: saving model to model_init_2020-08-1715_59_41.119511/model-00014-0.58443-0.79638-0.67027-0.78000.h5\n",
      "\n",
      "Epoch 00014: ReduceLROnPlateau reducing learning rate to 7.275957959772868e-15.\n",
      "Epoch 15/30\n",
      "17/17 [==============================] - 29s 2s/step - loss: 0.6137 - categorical_accuracy: 0.7647 - val_loss: 0.6650 - val_categorical_accuracy: 0.7800\n",
      "\n",
      "Epoch 00015: saving model to model_init_2020-08-1715_59_41.119511/model-00015-0.61366-0.76471-0.66504-0.78000.h5\n",
      "Epoch 16/30\n",
      "17/17 [==============================] - 29s 2s/step - loss: 0.6342 - categorical_accuracy: 0.7421 - val_loss: 0.6698 - val_categorical_accuracy: 0.7800\n",
      "\n",
      "Epoch 00016: saving model to model_init_2020-08-1715_59_41.119511/model-00016-0.63419-0.74208-0.66981-0.78000.h5\n",
      "\n",
      "Epoch 00016: ReduceLROnPlateau reducing learning rate to 3.637978979886434e-15.\n",
      "Epoch 17/30\n",
      "17/17 [==============================] - 31s 2s/step - loss: 0.6655 - categorical_accuracy: 0.7376 - val_loss: 0.6284 - val_categorical_accuracy: 0.8067\n",
      "\n",
      "Epoch 00017: saving model to model_init_2020-08-1715_59_41.119511/model-00017-0.66547-0.73756-0.62844-0.80667.h5\n",
      "Epoch 18/30\n",
      "17/17 [==============================] - 29s 2s/step - loss: 0.6023 - categorical_accuracy: 0.7557 - val_loss: 0.7074 - val_categorical_accuracy: 0.7533\n",
      "\n",
      "Epoch 00018: saving model to model_init_2020-08-1715_59_41.119511/model-00018-0.60226-0.75566-0.70735-0.75333.h5\n",
      "Epoch 19/30\n",
      "17/17 [==============================] - 29s 2s/step - loss: 0.6259 - categorical_accuracy: 0.7783 - val_loss: 0.6181 - val_categorical_accuracy: 0.8200\n",
      "\n",
      "Epoch 00019: saving model to model_init_2020-08-1715_59_41.119511/model-00019-0.62594-0.77828-0.61811-0.82000.h5\n",
      "Epoch 20/30\n",
      "17/17 [==============================] - 29s 2s/step - loss: 0.5926 - categorical_accuracy: 0.7828 - val_loss: 0.7166 - val_categorical_accuracy: 0.7400\n",
      "\n",
      "Epoch 00020: saving model to model_init_2020-08-1715_59_41.119511/model-00020-0.59264-0.78281-0.71661-0.74000.h5\n",
      "Epoch 21/30\n",
      "17/17 [==============================] - 29s 2s/step - loss: 0.5873 - categorical_accuracy: 0.7330 - val_loss: 0.7102 - val_categorical_accuracy: 0.7600\n",
      "\n",
      "Epoch 00021: saving model to model_init_2020-08-1715_59_41.119511/model-00021-0.58730-0.73303-0.71021-0.76000.h5\n",
      "\n",
      "Epoch 00021: ReduceLROnPlateau reducing learning rate to 1.818989489943217e-15.\n",
      "Epoch 22/30\n",
      "17/17 [==============================] - 30s 2s/step - loss: 0.6347 - categorical_accuracy: 0.7557 - val_loss: 0.6259 - val_categorical_accuracy: 0.8000\n",
      "\n",
      "Epoch 00022: saving model to model_init_2020-08-1715_59_41.119511/model-00022-0.63469-0.75566-0.62591-0.80000.h5\n",
      "Epoch 23/30\n",
      "17/17 [==============================] - 30s 2s/step - loss: 0.5307 - categorical_accuracy: 0.8371 - val_loss: 0.6550 - val_categorical_accuracy: 0.7933\n",
      "\n",
      "Epoch 00023: saving model to model_init_2020-08-1715_59_41.119511/model-00023-0.53072-0.83710-0.65499-0.79333.h5\n",
      "\n",
      "Epoch 00023: ReduceLROnPlateau reducing learning rate to 9.094947449716085e-16.\n",
      "Epoch 24/30\n",
      "17/17 [==============================] - 28s 2s/step - loss: 0.6432 - categorical_accuracy: 0.7783 - val_loss: 0.6816 - val_categorical_accuracy: 0.7667\n",
      "\n",
      "Epoch 00024: saving model to model_init_2020-08-1715_59_41.119511/model-00024-0.64319-0.77828-0.68157-0.76667.h5\n",
      "Epoch 25/30\n",
      "17/17 [==============================] - 30s 2s/step - loss: 0.5849 - categorical_accuracy: 0.7964 - val_loss: 0.6616 - val_categorical_accuracy: 0.7867\n",
      "\n",
      "Epoch 00025: saving model to model_init_2020-08-1715_59_41.119511/model-00025-0.58489-0.79638-0.66158-0.78667.h5\n",
      "\n",
      "Epoch 00025: ReduceLROnPlateau reducing learning rate to 4.547473724858043e-16.\n",
      "Epoch 26/30\n",
      "17/17 [==============================] - 29s 2s/step - loss: 0.6580 - categorical_accuracy: 0.7285 - val_loss: 0.6740 - val_categorical_accuracy: 0.7733\n",
      "\n",
      "Epoch 00026: saving model to model_init_2020-08-1715_59_41.119511/model-00026-0.65797-0.72851-0.67404-0.77333.h5\n",
      "Epoch 27/30\n",
      "17/17 [==============================] - 29s 2s/step - loss: 0.6023 - categorical_accuracy: 0.7783 - val_loss: 0.6435 - val_categorical_accuracy: 0.7933\n",
      "\n",
      "Epoch 00027: saving model to model_init_2020-08-1715_59_41.119511/model-00027-0.60227-0.77828-0.64349-0.79333.h5\n",
      "\n",
      "Epoch 00027: ReduceLROnPlateau reducing learning rate to 2.2737368624290214e-16.\n",
      "Epoch 28/30\n",
      "17/17 [==============================] - 30s 2s/step - loss: 0.5796 - categorical_accuracy: 0.7738 - val_loss: 0.6913 - val_categorical_accuracy: 0.7667\n",
      "\n",
      "Epoch 00028: saving model to model_init_2020-08-1715_59_41.119511/model-00028-0.57958-0.77376-0.69125-0.76667.h5\n",
      "Epoch 29/30\n",
      "17/17 [==============================] - 30s 2s/step - loss: 0.6404 - categorical_accuracy: 0.7330 - val_loss: 0.6933 - val_categorical_accuracy: 0.7800\n",
      "\n",
      "Epoch 00029: saving model to model_init_2020-08-1715_59_41.119511/model-00029-0.64041-0.73303-0.69333-0.78000.h5\n",
      "\n",
      "Epoch 00029: ReduceLROnPlateau reducing learning rate to 1.1368684312145107e-16.\n",
      "Epoch 30/30\n",
      "17/17 [==============================] - 29s 2s/step - loss: 0.6249 - categorical_accuracy: 0.7557 - val_loss: 0.6435 - val_categorical_accuracy: 0.7800\n",
      "\n",
      "Epoch 00030: saving model to model_init_2020-08-1715_59_41.119511/model-00030-0.62489-0.75566-0.64349-0.78000.h5\n"
     ]
    },
    {
     "data": {
      "text/plain": [
       "<keras.callbacks.History at 0x7efb4dc605f8>"
      ]
     },
     "execution_count": 96,
     "metadata": {},
     "output_type": "execute_result"
    }
   ],
   "source": [
    "batch_size = 50\n",
    "num_epochs = 30\n",
    "train_generator = generator(train_path, train_doc, batch_size)\n",
    "val_generator = generator(val_path, val_doc, batch_size)\n",
    "\n",
    "model.fit_generator(train_generator, steps_per_epoch=steps_per_epoch, epochs=num_epochs, verbose=1, \n",
    "                    callbacks=callbacks_list, validation_data=val_generator, \n",
    "                    validation_steps=validation_steps, class_weight=None, workers=1, initial_epoch=0)"
   ]
  },
  {
   "cell_type": "markdown",
   "metadata": {},
   "source": [
    "# CNN+RNN"
   ]
  },
  {
   "cell_type": "code",
   "execution_count": 98,
   "metadata": {},
   "outputs": [],
   "source": [
    "from keras.models import Sequential, Model\n",
    "from keras.layers import Dense, GRU, Flatten, TimeDistributed, Flatten, BatchNormalization, Activation, Dropout\n",
    "from keras.layers.convolutional import Conv2D, MaxPooling2D\n",
    "from keras.callbacks import ModelCheckpoint, ReduceLROnPlateau\n",
    "from keras import optimizers\n"
   ]
  },
  {
   "cell_type": "code",
   "execution_count": 99,
   "metadata": {},
   "outputs": [],
   "source": [
    "lstm_cells=64\n",
    "dense_neurons=64\n",
    "dropout=0.25\n",
    "num_classes\n",
    "\n",
    "model = Sequential()\n",
    "\n",
    "model.add(TimeDistributed(Conv2D(16, (3, 3) , padding='same', activation='relu'),\n",
    "                                  input_shape=(30,120,120,3)))\n",
    "model.add(TimeDistributed(BatchNormalization()))\n",
    "model.add(TimeDistributed(MaxPooling2D((2, 2))))\n",
    "        \n",
    "model.add(TimeDistributed(Conv2D(32, (3, 3) , padding='same', activation='relu')))\n",
    "model.add(TimeDistributed(BatchNormalization()))\n",
    "model.add(TimeDistributed(MaxPooling2D((2, 2))))\n",
    "        \n",
    "model.add(TimeDistributed(Conv2D(64, (3, 3) , padding='same', activation='relu')))\n",
    "model.add(TimeDistributed(BatchNormalization()))\n",
    "model.add(TimeDistributed(MaxPooling2D((2, 2))))\n",
    "        \n",
    "model.add(TimeDistributed(Conv2D(128, (3, 3) , padding='same', activation='relu')))\n",
    "model.add(TimeDistributed(BatchNormalization()))\n",
    "model.add(TimeDistributed(MaxPooling2D((2, 2))))\n",
    "\n",
    "model.add(TimeDistributed(Conv2D(128, (3, 3) , padding='same', activation='relu')))\n",
    "model.add(TimeDistributed(BatchNormalization()))\n",
    "model.add(TimeDistributed(MaxPooling2D((2, 2))))\n",
    "        \n",
    "\n",
    "    \n",
    "model.add(TimeDistributed(Flatten()))\n",
    "\n",
    "\n",
    "model.add(GRU(lstm_cells))\n",
    "model.add(Dropout(dropout))\n",
    "        \n",
    "model.add(Dense(dense_neurons,activation='relu'))\n",
    "model.add(Dropout(dropout))\n",
    "        \n",
    "model.add(Dense(num_classes, activation='softmax'))"
   ]
  },
  {
   "cell_type": "code",
   "execution_count": 100,
   "metadata": {},
   "outputs": [
    {
     "name": "stdout",
     "output_type": "stream",
     "text": [
      "_________________________________________________________________\n",
      "Layer (type)                 Output Shape              Param #   \n",
      "=================================================================\n",
      "time_distributed_129 (TimeDi (None, 30, 120, 120, 16)  448       \n",
      "_________________________________________________________________\n",
      "time_distributed_130 (TimeDi (None, 30, 120, 120, 16)  64        \n",
      "_________________________________________________________________\n",
      "time_distributed_131 (TimeDi (None, 30, 60, 60, 16)    0         \n",
      "_________________________________________________________________\n",
      "time_distributed_132 (TimeDi (None, 30, 60, 60, 32)    4640      \n",
      "_________________________________________________________________\n",
      "time_distributed_133 (TimeDi (None, 30, 60, 60, 32)    128       \n",
      "_________________________________________________________________\n",
      "time_distributed_134 (TimeDi (None, 30, 30, 30, 32)    0         \n",
      "_________________________________________________________________\n",
      "time_distributed_135 (TimeDi (None, 30, 30, 30, 64)    18496     \n",
      "_________________________________________________________________\n",
      "time_distributed_136 (TimeDi (None, 30, 30, 30, 64)    256       \n",
      "_________________________________________________________________\n",
      "time_distributed_137 (TimeDi (None, 30, 15, 15, 64)    0         \n",
      "_________________________________________________________________\n",
      "time_distributed_138 (TimeDi (None, 30, 15, 15, 128)   73856     \n",
      "_________________________________________________________________\n",
      "time_distributed_139 (TimeDi (None, 30, 15, 15, 128)   512       \n",
      "_________________________________________________________________\n",
      "time_distributed_140 (TimeDi (None, 30, 7, 7, 128)     0         \n",
      "_________________________________________________________________\n",
      "time_distributed_141 (TimeDi (None, 30, 7, 7, 128)     147584    \n",
      "_________________________________________________________________\n",
      "time_distributed_142 (TimeDi (None, 30, 7, 7, 128)     512       \n",
      "_________________________________________________________________\n",
      "time_distributed_143 (TimeDi (None, 30, 3, 3, 128)     0         \n",
      "_________________________________________________________________\n",
      "time_distributed_144 (TimeDi (None, 30, 1152)          0         \n",
      "_________________________________________________________________\n",
      "gru_11 (GRU)                 (None, 64)                233664    \n",
      "_________________________________________________________________\n",
      "dropout_26 (Dropout)         (None, 64)                0         \n",
      "_________________________________________________________________\n",
      "dense_21 (Dense)             (None, 64)                4160      \n",
      "_________________________________________________________________\n",
      "dropout_27 (Dropout)         (None, 64)                0         \n",
      "_________________________________________________________________\n",
      "dense_22 (Dense)             (None, 5)                 325       \n",
      "=================================================================\n",
      "Total params: 484,645\n",
      "Trainable params: 483,909\n",
      "Non-trainable params: 736\n",
      "_________________________________________________________________\n",
      "None\n"
     ]
    }
   ],
   "source": [
    "from keras.optimizers import Adam\n",
    "optimiser = Adam() #write your optimizer\n",
    "model.compile(optimizer=optimiser, loss='categorical_crossentropy', metrics=['categorical_accuracy'])\n",
    "print (model.summary())"
   ]
  },
  {
   "cell_type": "code",
   "execution_count": 101,
   "metadata": {},
   "outputs": [],
   "source": [
    "train_generator = generator(train_path, train_doc, batch_size)\n",
    "val_generator = generator(val_path, val_doc, batch_size)"
   ]
  },
  {
   "cell_type": "code",
   "execution_count": 102,
   "metadata": {},
   "outputs": [],
   "source": [
    "model_name = 'model_init' + '_' + str(curr_dt_time).replace(' ','').replace(':','_') + '/'\n",
    "    \n",
    "if not os.path.exists(model_name):\n",
    "    os.mkdir(model_name)\n",
    "        \n",
    "filepath = model_name + 'model-{epoch:05d}-{loss:.5f}-{categorical_accuracy:.5f}-{val_loss:.5f}-{val_categorical_accuracy:.5f}.h5'\n",
    "\n",
    "checkpoint = ModelCheckpoint(filepath, monitor='val_loss', verbose=1, save_best_only=False, save_weights_only=False, mode='auto', period=1)\n",
    "\n",
    "LR = ReduceLROnPlateau(monitor='val_loss', factor=0.5, patience=2, cooldown=1, verbose=1)# write the REducelronplateau code here\n",
    "callbacks_list = [checkpoint, LR]"
   ]
  },
  {
   "cell_type": "code",
   "execution_count": 103,
   "metadata": {},
   "outputs": [],
   "source": [
    "if (num_train_sequences%batch_size) == 0:\n",
    "    steps_per_epoch = int(num_train_sequences/batch_size)\n",
    "else:\n",
    "    steps_per_epoch = (num_train_sequences//batch_size) + 1\n",
    "\n",
    "if (num_val_sequences%batch_size) == 0:\n",
    "    validation_steps = int(num_val_sequences/batch_size)\n",
    "else:\n",
    "    validation_steps = (num_val_sequences//batch_size) + 1"
   ]
  },
  {
   "cell_type": "code",
   "execution_count": 56,
   "metadata": {},
   "outputs": [
    {
     "name": "stdout",
     "output_type": "stream",
     "text": [
      "Source path =  Project_data/val Source path =  Project_data/train ; batch size = 40\n",
      "Epoch 1/20\n",
      "; batch size = 40\n"
     ]
    },
    {
     "name": "stderr",
     "output_type": "stream",
     "text": [
      "/mnt/disks/user/anaconda3/lib/python3.6/site-packages/ipykernel_launcher.py:13: DeprecationWarning: `imread` is deprecated!\n",
      "`imread` is deprecated in SciPy 1.0.0, and will be removed in 1.2.0.\n",
      "Use ``imageio.imread`` instead.\n",
      "  del sys.path[0]\n",
      "/mnt/disks/user/anaconda3/lib/python3.6/site-packages/ipykernel_launcher.py:5: DeprecationWarning: `imresize` is deprecated!\n",
      "`imresize` is deprecated in SciPy 1.0.0, and will be removed in 1.2.0.\n",
      "Use ``skimage.transform.resize`` instead.\n",
      "  \"\"\"\n"
     ]
    },
    {
     "name": "stdout",
     "output_type": "stream",
     "text": [
      " 2/17 [==>...........................] - ETA: 1:41 - loss: 1.7333 - categorical_accuracy: 0.2375"
     ]
    },
    {
     "name": "stderr",
     "output_type": "stream",
     "text": [
      "/mnt/disks/user/anaconda3/lib/python3.6/site-packages/ipykernel_launcher.py:34: DeprecationWarning: `imread` is deprecated!\n",
      "`imread` is deprecated in SciPy 1.0.0, and will be removed in 1.2.0.\n",
      "Use ``imageio.imread`` instead.\n"
     ]
    },
    {
     "name": "stdout",
     "output_type": "stream",
     "text": [
      "17/17 [==============================] - 85s 5s/step - loss: 1.4891 - categorical_accuracy: 0.3606 - val_loss: 1.4391 - val_categorical_accuracy: 0.3700\n",
      "\n",
      "Epoch 00001: saving model to model_init_2020-08-1714_29_28.508381/model-00001-1.47940-0.36199-1.43912-0.37000.h5\n",
      "Epoch 2/20\n",
      "17/17 [==============================] - 44s 3s/step - loss: 1.2324 - categorical_accuracy: 0.4680 - val_loss: 1.1211 - val_categorical_accuracy: 0.5667\n",
      "\n",
      "Epoch 00002: saving model to model_init_2020-08-1714_29_28.508381/model-00002-1.23242-0.46803-1.12105-0.56667.h5\n",
      "Epoch 3/20\n",
      "17/17 [==============================] - 43s 3s/step - loss: 1.2181 - categorical_accuracy: 0.4530 - val_loss: 1.3475 - val_categorical_accuracy: 0.3667\n",
      "\n",
      "Epoch 00003: saving model to model_init_2020-08-1714_29_28.508381/model-00003-1.22175-0.45232-1.34746-0.36667.h5\n",
      "Epoch 4/20\n",
      "17/17 [==============================] - 39s 2s/step - loss: 1.0957 - categorical_accuracy: 0.5387 - val_loss: 1.5479 - val_categorical_accuracy: 0.3500\n",
      "\n",
      "Epoch 00004: saving model to model_init_2020-08-1714_29_28.508381/model-00004-1.09568-0.53870-1.54786-0.35000.h5\n",
      "\n",
      "Epoch 00004: ReduceLROnPlateau reducing learning rate to 0.0005000000237487257.\n",
      "Epoch 5/20\n",
      "17/17 [==============================] - 36s 2s/step - loss: 1.0601 - categorical_accuracy: 0.5786 - val_loss: 0.9576 - val_categorical_accuracy: 0.6500\n",
      "\n",
      "Epoch 00005: saving model to model_init_2020-08-1714_29_28.508381/model-00005-1.05876-0.57827-0.95757-0.65000.h5\n",
      "Epoch 6/20\n",
      "17/17 [==============================] - 36s 2s/step - loss: 0.8279 - categorical_accuracy: 0.6782 - val_loss: 0.8708 - val_categorical_accuracy: 0.6833\n",
      "\n",
      "Epoch 00006: saving model to model_init_2020-08-1714_29_28.508381/model-00006-0.82792-0.67820-0.87081-0.68333.h5\n",
      "Epoch 7/20\n",
      "17/17 [==============================] - 35s 2s/step - loss: 0.8705 - categorical_accuracy: 0.6471 - val_loss: 0.9393 - val_categorical_accuracy: 0.6500\n",
      "\n",
      "Epoch 00007: saving model to model_init_2020-08-1714_29_28.508381/model-00007-0.87049-0.64706-0.93933-0.65000.h5\n",
      "Epoch 8/20\n",
      "17/17 [==============================] - 35s 2s/step - loss: 0.7261 - categorical_accuracy: 0.7128 - val_loss: 0.7829 - val_categorical_accuracy: 0.6833\n",
      "\n",
      "Epoch 00008: saving model to model_init_2020-08-1714_29_28.508381/model-00008-0.72608-0.71280-0.78290-0.68333.h5\n",
      "Epoch 9/20\n",
      "17/17 [==============================] - 35s 2s/step - loss: 0.7452 - categorical_accuracy: 0.7024 - val_loss: 0.8489 - val_categorical_accuracy: 0.6500\n",
      "\n",
      "Epoch 00009: saving model to model_init_2020-08-1714_29_28.508381/model-00009-0.74518-0.70242-0.84889-0.65000.h5\n",
      "Epoch 10/20\n",
      "17/17 [==============================] - 36s 2s/step - loss: 0.6238 - categorical_accuracy: 0.7751 - val_loss: 0.8431 - val_categorical_accuracy: 0.7500\n",
      "\n",
      "Epoch 00010: saving model to model_init_2020-08-1714_29_28.508381/model-00010-0.62384-0.77509-0.84307-0.75000.h5\n",
      "\n",
      "Epoch 00010: ReduceLROnPlateau reducing learning rate to 0.0002500000118743628.\n",
      "Epoch 11/20\n",
      "17/17 [==============================] - 35s 2s/step - loss: 0.6121 - categorical_accuracy: 0.7405 - val_loss: 0.8444 - val_categorical_accuracy: 0.6167\n",
      "\n",
      "Epoch 00011: saving model to model_init_2020-08-1714_29_28.508381/model-00011-0.61209-0.74048-0.84442-0.61667.h5\n",
      "Epoch 12/20\n",
      "17/17 [==============================] - 36s 2s/step - loss: 0.5458 - categorical_accuracy: 0.8028 - val_loss: 0.8309 - val_categorical_accuracy: 0.6833\n",
      "\n",
      "Epoch 00012: saving model to model_init_2020-08-1714_29_28.508381/model-00012-0.54579-0.80277-0.83091-0.68333.h5\n",
      "\n",
      "Epoch 00012: ReduceLROnPlateau reducing learning rate to 0.0001250000059371814.\n",
      "Epoch 13/20\n",
      "17/17 [==============================] - 35s 2s/step - loss: 0.4386 - categorical_accuracy: 0.8581 - val_loss: 0.9758 - val_categorical_accuracy: 0.6333\n",
      "\n",
      "Epoch 00013: saving model to model_init_2020-08-1714_29_28.508381/model-00013-0.43856-0.85813-0.97584-0.63333.h5\n",
      "Epoch 14/20\n",
      "17/17 [==============================] - 34s 2s/step - loss: 0.4299 - categorical_accuracy: 0.8651 - val_loss: 0.6951 - val_categorical_accuracy: 0.7667\n",
      "\n",
      "Epoch 00014: saving model to model_init_2020-08-1714_29_28.508381/model-00014-0.42988-0.86505-0.69508-0.76667.h5\n",
      "Epoch 15/20\n",
      "17/17 [==============================] - 35s 2s/step - loss: 0.3792 - categorical_accuracy: 0.8685 - val_loss: 0.6897 - val_categorical_accuracy: 0.7333\n",
      "\n",
      "Epoch 00015: saving model to model_init_2020-08-1714_29_28.508381/model-00015-0.37921-0.86851-0.68967-0.73333.h5\n",
      "Epoch 16/20\n",
      "17/17 [==============================] - 35s 2s/step - loss: 0.4128 - categorical_accuracy: 0.8616 - val_loss: 0.9246 - val_categorical_accuracy: 0.6667\n",
      "\n",
      "Epoch 00016: saving model to model_init_2020-08-1714_29_28.508381/model-00016-0.41278-0.86159-0.92460-0.66667.h5\n",
      "Epoch 17/20\n",
      "17/17 [==============================] - 36s 2s/step - loss: 0.3116 - categorical_accuracy: 0.9066 - val_loss: 0.9612 - val_categorical_accuracy: 0.6667\n",
      "\n",
      "Epoch 00017: saving model to model_init_2020-08-1714_29_28.508381/model-00017-0.31161-0.90657-0.96117-0.66667.h5\n",
      "\n",
      "Epoch 00017: ReduceLROnPlateau reducing learning rate to 6.25000029685907e-05.\n",
      "Epoch 18/20\n",
      "17/17 [==============================] - 33s 2s/step - loss: 0.3439 - categorical_accuracy: 0.9031 - val_loss: 0.6275 - val_categorical_accuracy: 0.7833\n",
      "\n",
      "Epoch 00018: saving model to model_init_2020-08-1714_29_28.508381/model-00018-0.34392-0.90311-0.62746-0.78333.h5\n",
      "Epoch 19/20\n",
      "17/17 [==============================] - 35s 2s/step - loss: 0.3246 - categorical_accuracy: 0.8962 - val_loss: 0.8038 - val_categorical_accuracy: 0.7167\n",
      "\n",
      "Epoch 00019: saving model to model_init_2020-08-1714_29_28.508381/model-00019-0.32456-0.89619-0.80378-0.71667.h5\n",
      "Epoch 20/20\n",
      "17/17 [==============================] - 35s 2s/step - loss: 0.2722 - categorical_accuracy: 0.9377 - val_loss: 0.7538 - val_categorical_accuracy: 0.7167\n",
      "\n",
      "Epoch 00020: saving model to model_init_2020-08-1714_29_28.508381/model-00020-0.27216-0.93772-0.75384-0.71667.h5\n",
      "\n",
      "Epoch 00020: ReduceLROnPlateau reducing learning rate to 3.125000148429535e-05.\n"
     ]
    },
    {
     "data": {
      "text/plain": [
       "<keras.callbacks.History at 0x7efb5169c390>"
      ]
     },
     "execution_count": 56,
     "metadata": {},
     "output_type": "execute_result"
    }
   ],
   "source": [
    "batch_size = 40\n",
    "\n",
    "num_epochs = 20\n",
    "model.fit_generator(train_generator, steps_per_epoch=steps_per_epoch, epochs=num_epochs, verbose=1, \n",
    "                    callbacks=callbacks_list, validation_data=val_generator, \n",
    "                    validation_steps=validation_steps, class_weight=None, workers=1, initial_epoch=0)"
   ]
  },
  {
   "cell_type": "code",
   "execution_count": 57,
   "metadata": {},
   "outputs": [
    {
     "name": "stdout",
     "output_type": "stream",
     "text": [
      "Epoch 1/5\n"
     ]
    },
    {
     "name": "stderr",
     "output_type": "stream",
     "text": [
      "/mnt/disks/user/anaconda3/lib/python3.6/site-packages/ipykernel_launcher.py:13: DeprecationWarning: `imread` is deprecated!\n",
      "`imread` is deprecated in SciPy 1.0.0, and will be removed in 1.2.0.\n",
      "Use ``imageio.imread`` instead.\n",
      "  del sys.path[0]\n",
      "/mnt/disks/user/anaconda3/lib/python3.6/site-packages/ipykernel_launcher.py:5: DeprecationWarning: `imresize` is deprecated!\n",
      "`imresize` is deprecated in SciPy 1.0.0, and will be removed in 1.2.0.\n",
      "Use ``skimage.transform.resize`` instead.\n",
      "  \"\"\"\n"
     ]
    },
    {
     "name": "stdout",
     "output_type": "stream",
     "text": [
      "17/17 [==============================] - 42s 2s/step - loss: 0.3194 - categorical_accuracy: 0.9239 - val_loss: 0.7148 - val_categorical_accuracy: 0.7167\n",
      "\n",
      "Epoch 00001: saving model to model_init_2020-08-1714_29_28.508381/model-00001-0.31937-0.92388-0.71484-0.71667.h5\n",
      "Epoch 2/5\n",
      "17/17 [==============================] - 35s 2s/step - loss: 0.2728 - categorical_accuracy: 0.9481 - val_loss: 0.6098 - val_categorical_accuracy: 0.8167\n",
      "\n",
      "Epoch 00002: saving model to model_init_2020-08-1714_29_28.508381/model-00002-0.27284-0.94810-0.60977-0.81667.h5\n",
      "Epoch 3/5\n",
      "17/17 [==============================] - 35s 2s/step - loss: 0.2798 - categorical_accuracy: 0.9343 - val_loss: 0.8010 - val_categorical_accuracy: 0.7167\n",
      "\n",
      "Epoch 00003: saving model to model_init_2020-08-1714_29_28.508381/model-00003-0.27980-0.93426-0.80101-0.71667.h5\n",
      "Epoch 4/5\n",
      "17/17 [==============================] - 34s 2s/step - loss: 0.3027 - categorical_accuracy: 0.9204 - val_loss: 0.6790 - val_categorical_accuracy: 0.7167\n",
      "\n",
      "Epoch 00004: saving model to model_init_2020-08-1714_29_28.508381/model-00004-0.30270-0.92042-0.67898-0.71667.h5\n",
      "\n",
      "Epoch 00004: ReduceLROnPlateau reducing learning rate to 1.5625000742147677e-05.\n",
      "Epoch 5/5\n",
      "17/17 [==============================] - 36s 2s/step - loss: 0.2767 - categorical_accuracy: 0.9135 - val_loss: 0.6715 - val_categorical_accuracy: 0.8000\n",
      "\n",
      "Epoch 00005: saving model to model_init_2020-08-1714_29_28.508381/model-00005-0.27673-0.91349-0.67148-0.80000.h5\n"
     ]
    },
    {
     "data": {
      "text/plain": [
       "<keras.callbacks.History at 0x7efb5169cba8>"
      ]
     },
     "execution_count": 57,
     "metadata": {},
     "output_type": "execute_result"
    }
   ],
   "source": [
    "batch_size = 50\n",
    "\n",
    "num_epochs = 5\n",
    "model.fit_generator(train_generator, steps_per_epoch=steps_per_epoch, epochs=num_epochs, verbose=1, \n",
    "                    callbacks=callbacks_list, validation_data=val_generator, \n",
    "                    validation_steps=validation_steps, class_weight=None, workers=1, initial_epoch=0)"
   ]
  },
  {
   "cell_type": "code",
   "execution_count": 59,
   "metadata": {},
   "outputs": [
    {
     "name": "stdout",
     "output_type": "stream",
     "text": [
      "Epoch 1/30\n"
     ]
    },
    {
     "name": "stderr",
     "output_type": "stream",
     "text": [
      "/mnt/disks/user/anaconda3/lib/python3.6/site-packages/ipykernel_launcher.py:13: DeprecationWarning: `imread` is deprecated!\n",
      "`imread` is deprecated in SciPy 1.0.0, and will be removed in 1.2.0.\n",
      "Use ``imageio.imread`` instead.\n",
      "  del sys.path[0]\n",
      "/mnt/disks/user/anaconda3/lib/python3.6/site-packages/ipykernel_launcher.py:5: DeprecationWarning: `imresize` is deprecated!\n",
      "`imresize` is deprecated in SciPy 1.0.0, and will be removed in 1.2.0.\n",
      "Use ``skimage.transform.resize`` instead.\n",
      "  \"\"\"\n"
     ]
    },
    {
     "name": "stdout",
     "output_type": "stream",
     "text": [
      "17/17 [==============================] - 40s 2s/step - loss: 0.2825 - categorical_accuracy: 0.9135 - val_loss: 0.6083 - val_categorical_accuracy: 0.8000\n",
      "\n",
      "Epoch 00001: saving model to model_init_2020-08-1714_29_28.508381/model-00001-0.28245-0.91349-0.60827-0.80000.h5\n",
      "Epoch 2/30\n",
      "17/17 [==============================] - 36s 2s/step - loss: 0.2857 - categorical_accuracy: 0.9343 - val_loss: 0.6752 - val_categorical_accuracy: 0.7500\n",
      "\n",
      "Epoch 00002: saving model to model_init_2020-08-1714_29_28.508381/model-00002-0.28569-0.93426-0.67520-0.75000.h5\n",
      "Epoch 3/30\n",
      "17/17 [==============================] - 34s 2s/step - loss: 0.2612 - categorical_accuracy: 0.9343 - val_loss: 0.6572 - val_categorical_accuracy: 0.7667\n",
      "\n",
      "Epoch 00003: saving model to model_init_2020-08-1714_29_28.508381/model-00003-0.26125-0.93426-0.65716-0.76667.h5\n",
      "\n",
      "Epoch 00003: ReduceLROnPlateau reducing learning rate to 3.906250185536919e-06.\n",
      "Epoch 4/30\n",
      "17/17 [==============================] - 35s 2s/step - loss: 0.2768 - categorical_accuracy: 0.9170 - val_loss: 0.5879 - val_categorical_accuracy: 0.8000\n",
      "\n",
      "Epoch 00004: saving model to model_init_2020-08-1714_29_28.508381/model-00004-0.27682-0.91696-0.58793-0.80000.h5\n",
      "Epoch 5/30\n",
      "17/17 [==============================] - 36s 2s/step - loss: 0.2811 - categorical_accuracy: 0.9204 - val_loss: 0.7942 - val_categorical_accuracy: 0.7167\n",
      "\n",
      "Epoch 00005: saving model to model_init_2020-08-1714_29_28.508381/model-00005-0.28112-0.92042-0.79416-0.71667.h5\n",
      "Epoch 6/30\n",
      "17/17 [==============================] - 36s 2s/step - loss: 0.2862 - categorical_accuracy: 0.9204 - val_loss: 0.7054 - val_categorical_accuracy: 0.7500\n",
      "\n",
      "Epoch 00006: saving model to model_init_2020-08-1714_29_28.508381/model-00006-0.28620-0.92042-0.70539-0.75000.h5\n",
      "\n",
      "Epoch 00006: ReduceLROnPlateau reducing learning rate to 1.9531250927684596e-06.\n",
      "Epoch 7/30\n",
      "17/17 [==============================] - 34s 2s/step - loss: 0.2854 - categorical_accuracy: 0.9135 - val_loss: 0.6318 - val_categorical_accuracy: 0.8000\n",
      "\n",
      "Epoch 00007: saving model to model_init_2020-08-1714_29_28.508381/model-00007-0.28541-0.91349-0.63180-0.80000.h5\n",
      "Epoch 8/30\n",
      "17/17 [==============================] - 34s 2s/step - loss: 0.2808 - categorical_accuracy: 0.9273 - val_loss: 0.6857 - val_categorical_accuracy: 0.7667\n",
      "\n",
      "Epoch 00008: saving model to model_init_2020-08-1714_29_28.508381/model-00008-0.28085-0.92734-0.68571-0.76667.h5\n",
      "\n",
      "Epoch 00008: ReduceLROnPlateau reducing learning rate to 9.765625463842298e-07.\n",
      "Epoch 9/30\n",
      "17/17 [==============================] - 36s 2s/step - loss: 0.2346 - categorical_accuracy: 0.9654 - val_loss: 0.5578 - val_categorical_accuracy: 0.8167\n",
      "\n",
      "Epoch 00009: saving model to model_init_2020-08-1714_29_28.508381/model-00009-0.23458-0.96540-0.55776-0.81667.h5\n",
      "Epoch 10/30\n",
      "17/17 [==============================] - 35s 2s/step - loss: 0.2773 - categorical_accuracy: 0.9239 - val_loss: 0.8457 - val_categorical_accuracy: 0.7000\n",
      "\n",
      "Epoch 00010: saving model to model_init_2020-08-1714_29_28.508381/model-00010-0.27728-0.92388-0.84573-0.70000.h5\n",
      "Epoch 11/30\n",
      "17/17 [==============================] - 36s 2s/step - loss: 0.2207 - categorical_accuracy: 0.9758 - val_loss: 0.5844 - val_categorical_accuracy: 0.8167\n",
      "\n",
      "Epoch 00011: saving model to model_init_2020-08-1714_29_28.508381/model-00011-0.22072-0.97578-0.58435-0.81667.h5\n",
      "\n",
      "Epoch 00011: ReduceLROnPlateau reducing learning rate to 4.882812731921149e-07.\n",
      "Epoch 12/30\n",
      "17/17 [==============================] - 34s 2s/step - loss: 0.2856 - categorical_accuracy: 0.9273 - val_loss: 0.7937 - val_categorical_accuracy: 0.6833\n",
      "\n",
      "Epoch 00012: saving model to model_init_2020-08-1714_29_28.508381/model-00012-0.28563-0.92734-0.79374-0.68333.h5\n",
      "Epoch 13/30\n",
      "17/17 [==============================] - 36s 2s/step - loss: 0.2459 - categorical_accuracy: 0.9481 - val_loss: 0.6291 - val_categorical_accuracy: 0.8333\n",
      "\n",
      "Epoch 00013: saving model to model_init_2020-08-1714_29_28.508381/model-00013-0.24593-0.94810-0.62907-0.83333.h5\n",
      "\n",
      "Epoch 00013: ReduceLROnPlateau reducing learning rate to 2.4414063659605745e-07.\n",
      "Epoch 14/30\n",
      "17/17 [==============================] - 35s 2s/step - loss: 0.2605 - categorical_accuracy: 0.9481 - val_loss: 0.5913 - val_categorical_accuracy: 0.8167\n",
      "\n",
      "Epoch 00014: saving model to model_init_2020-08-1714_29_28.508381/model-00014-0.26048-0.94810-0.59127-0.81667.h5\n",
      "Epoch 15/30\n",
      "17/17 [==============================] - 34s 2s/step - loss: 0.2441 - categorical_accuracy: 0.9516 - val_loss: 0.8255 - val_categorical_accuracy: 0.7000\n",
      "\n",
      "Epoch 00015: saving model to model_init_2020-08-1714_29_28.508381/model-00015-0.24406-0.95156-0.82546-0.70000.h5\n",
      "\n",
      "Epoch 00015: ReduceLROnPlateau reducing learning rate to 1.2207031829802872e-07.\n",
      "Epoch 16/30\n",
      "17/17 [==============================] - 36s 2s/step - loss: 0.2371 - categorical_accuracy: 0.9550 - val_loss: 0.5476 - val_categorical_accuracy: 0.8333\n",
      "\n",
      "Epoch 00016: saving model to model_init_2020-08-1714_29_28.508381/model-00016-0.23706-0.95502-0.54759-0.83333.h5\n",
      "Epoch 17/30\n",
      "17/17 [==============================] - 33s 2s/step - loss: 0.2884 - categorical_accuracy: 0.9239 - val_loss: 0.7061 - val_categorical_accuracy: 0.7333\n",
      "\n",
      "Epoch 00017: saving model to model_init_2020-08-1714_29_28.508381/model-00017-0.28836-0.92388-0.70609-0.73333.h5\n",
      "Epoch 18/30\n",
      "17/17 [==============================] - 37s 2s/step - loss: 0.2376 - categorical_accuracy: 0.9550 - val_loss: 0.7408 - val_categorical_accuracy: 0.7500\n",
      "\n",
      "Epoch 00018: saving model to model_init_2020-08-1714_29_28.508381/model-00018-0.23760-0.95502-0.74084-0.75000.h5\n",
      "\n",
      "Epoch 00018: ReduceLROnPlateau reducing learning rate to 6.103515914901436e-08.\n",
      "Epoch 19/30\n",
      "17/17 [==============================] - 34s 2s/step - loss: 0.2294 - categorical_accuracy: 0.9619 - val_loss: 0.6831 - val_categorical_accuracy: 0.7667\n",
      "\n",
      "Epoch 00019: saving model to model_init_2020-08-1714_29_28.508381/model-00019-0.22943-0.96194-0.68308-0.76667.h5\n",
      "Epoch 20/30\n",
      "17/17 [==============================] - 36s 2s/step - loss: 0.2789 - categorical_accuracy: 0.9135 - val_loss: 0.7569 - val_categorical_accuracy: 0.7000\n",
      "\n",
      "Epoch 00020: saving model to model_init_2020-08-1714_29_28.508381/model-00020-0.27891-0.91349-0.75688-0.70000.h5\n",
      "\n",
      "Epoch 00020: ReduceLROnPlateau reducing learning rate to 3.051757957450718e-08.\n",
      "Epoch 21/30\n",
      "17/17 [==============================] - 36s 2s/step - loss: 0.2372 - categorical_accuracy: 0.9516 - val_loss: 0.6209 - val_categorical_accuracy: 0.7833\n",
      "\n",
      "Epoch 00021: saving model to model_init_2020-08-1714_29_28.508381/model-00021-0.23720-0.95156-0.62092-0.78333.h5\n",
      "Epoch 22/30\n",
      "17/17 [==============================] - 34s 2s/step - loss: 0.2787 - categorical_accuracy: 0.9100 - val_loss: 0.5455 - val_categorical_accuracy: 0.8667\n",
      "\n",
      "Epoch 00022: saving model to model_init_2020-08-1714_29_28.508381/model-00022-0.27869-0.91003-0.54551-0.86667.h5\n",
      "Epoch 23/30\n",
      "17/17 [==============================] - 36s 2s/step - loss: 0.2313 - categorical_accuracy: 0.9412 - val_loss: 0.8061 - val_categorical_accuracy: 0.7167\n",
      "\n",
      "Epoch 00023: saving model to model_init_2020-08-1714_29_28.508381/model-00023-0.23133-0.94118-0.80606-0.71667.h5\n",
      "Epoch 24/30\n",
      "17/17 [==============================] - 36s 2s/step - loss: 0.2519 - categorical_accuracy: 0.9308 - val_loss: 0.7824 - val_categorical_accuracy: 0.7500\n",
      "\n",
      "Epoch 00024: saving model to model_init_2020-08-1714_29_28.508381/model-00024-0.25188-0.93080-0.78242-0.75000.h5\n",
      "\n",
      "Epoch 00024: ReduceLROnPlateau reducing learning rate to 1.525878978725359e-08.\n",
      "Epoch 25/30\n",
      "17/17 [==============================] - 34s 2s/step - loss: 0.2929 - categorical_accuracy: 0.9273 - val_loss: 0.5655 - val_categorical_accuracy: 0.8167\n",
      "\n",
      "Epoch 00025: saving model to model_init_2020-08-1714_29_28.508381/model-00025-0.29289-0.92734-0.56549-0.81667.h5\n",
      "Epoch 26/30\n",
      "17/17 [==============================] - 35s 2s/step - loss: 0.2540 - categorical_accuracy: 0.9481 - val_loss: 0.7198 - val_categorical_accuracy: 0.7333\n",
      "\n",
      "Epoch 00026: saving model to model_init_2020-08-1714_29_28.508381/model-00026-0.25402-0.94810-0.71983-0.73333.h5\n",
      "\n",
      "Epoch 00026: ReduceLROnPlateau reducing learning rate to 7.629394893626795e-09.\n",
      "Epoch 27/30\n",
      "17/17 [==============================] - 35s 2s/step - loss: 0.2793 - categorical_accuracy: 0.9273 - val_loss: 0.6642 - val_categorical_accuracy: 0.8000\n",
      "\n",
      "Epoch 00027: saving model to model_init_2020-08-1714_29_28.508381/model-00027-0.27932-0.92734-0.66423-0.80000.h5\n",
      "Epoch 28/30\n",
      "17/17 [==============================] - 36s 2s/step - loss: 0.2587 - categorical_accuracy: 0.9516 - val_loss: 0.6777 - val_categorical_accuracy: 0.7333\n",
      "\n",
      "Epoch 00028: saving model to model_init_2020-08-1714_29_28.508381/model-00028-0.25872-0.95156-0.67774-0.73333.h5\n",
      "\n",
      "Epoch 00028: ReduceLROnPlateau reducing learning rate to 3.814697446813398e-09.\n",
      "Epoch 29/30\n",
      "17/17 [==============================] - 35s 2s/step - loss: 0.2804 - categorical_accuracy: 0.9204 - val_loss: 0.7471 - val_categorical_accuracy: 0.7333\n",
      "\n",
      "Epoch 00029: saving model to model_init_2020-08-1714_29_28.508381/model-00029-0.28043-0.92042-0.74711-0.73333.h5\n",
      "Epoch 30/30\n",
      "17/17 [==============================] - 35s 2s/step - loss: 0.2569 - categorical_accuracy: 0.9481 - val_loss: 0.5426 - val_categorical_accuracy: 0.8333\n",
      "\n",
      "Epoch 00030: saving model to model_init_2020-08-1714_29_28.508381/model-00030-0.25691-0.94810-0.54257-0.83333.h5\n"
     ]
    },
    {
     "data": {
      "text/plain": [
       "<keras.callbacks.History at 0x7efb52c76a58>"
      ]
     },
     "execution_count": 59,
     "metadata": {},
     "output_type": "execute_result"
    }
   ],
   "source": [
    "batch_size = 20\n",
    "\n",
    "num_epochs = 30\n",
    "model.fit_generator(train_generator, steps_per_epoch=steps_per_epoch, epochs=num_epochs, verbose=1, \n",
    "                    callbacks=callbacks_list, validation_data=val_generator, \n",
    "                    validation_steps=validation_steps, class_weight=None, workers=1, initial_epoch=0)"
   ]
  },
  {
   "cell_type": "code",
   "execution_count": 60,
   "metadata": {},
   "outputs": [
    {
     "name": "stdout",
     "output_type": "stream",
     "text": [
      "Epoch 1/10\n"
     ]
    },
    {
     "name": "stderr",
     "output_type": "stream",
     "text": [
      "/mnt/disks/user/anaconda3/lib/python3.6/site-packages/ipykernel_launcher.py:13: DeprecationWarning: `imread` is deprecated!\n",
      "`imread` is deprecated in SciPy 1.0.0, and will be removed in 1.2.0.\n",
      "Use ``imageio.imread`` instead.\n",
      "  del sys.path[0]\n",
      "/mnt/disks/user/anaconda3/lib/python3.6/site-packages/ipykernel_launcher.py:5: DeprecationWarning: `imresize` is deprecated!\n",
      "`imresize` is deprecated in SciPy 1.0.0, and will be removed in 1.2.0.\n",
      "Use ``skimage.transform.resize`` instead.\n",
      "  \"\"\"\n"
     ]
    },
    {
     "name": "stdout",
     "output_type": "stream",
     "text": [
      "17/17 [==============================] - 42s 2s/step - loss: 0.2591 - categorical_accuracy: 0.9343 - val_loss: 0.7429 - val_categorical_accuracy: 0.7667\n",
      "\n",
      "Epoch 00001: saving model to model_init_2020-08-1714_29_28.508381/model-00001-0.25908-0.93426-0.74292-0.76667.h5\n",
      "Epoch 2/10\n",
      "17/17 [==============================] - 34s 2s/step - loss: 0.2516 - categorical_accuracy: 0.9377 - val_loss: 0.5957 - val_categorical_accuracy: 0.8000\n",
      "\n",
      "Epoch 00002: saving model to model_init_2020-08-1714_29_28.508381/model-00002-0.25159-0.93772-0.59566-0.80000.h5\n",
      "Epoch 3/10\n",
      "17/17 [==============================] - 35s 2s/step - loss: 0.2841 - categorical_accuracy: 0.9204 - val_loss: 0.6146 - val_categorical_accuracy: 0.7833\n",
      "\n",
      "Epoch 00003: saving model to model_init_2020-08-1714_29_28.508381/model-00003-0.28409-0.92042-0.61456-0.78333.h5\n",
      "Epoch 4/10\n",
      "17/17 [==============================] - 35s 2s/step - loss: 0.2594 - categorical_accuracy: 0.9273 - val_loss: 0.6881 - val_categorical_accuracy: 0.7833\n",
      "\n",
      "Epoch 00004: saving model to model_init_2020-08-1714_29_28.508381/model-00004-0.25935-0.92734-0.68813-0.78333.h5\n",
      "\n",
      "Epoch 00004: ReduceLROnPlateau reducing learning rate to 1.907348723406699e-09.\n",
      "Epoch 5/10\n",
      "17/17 [==============================] - 36s 2s/step - loss: 0.2490 - categorical_accuracy: 0.9516 - val_loss: 0.5920 - val_categorical_accuracy: 0.7667\n",
      "\n",
      "Epoch 00005: saving model to model_init_2020-08-1714_29_28.508381/model-00005-0.24902-0.95156-0.59203-0.76667.h5\n",
      "Epoch 6/10\n",
      "17/17 [==============================] - 35s 2s/step - loss: 0.2790 - categorical_accuracy: 0.9377 - val_loss: 0.7719 - val_categorical_accuracy: 0.7333\n",
      "\n",
      "Epoch 00006: saving model to model_init_2020-08-1714_29_28.508381/model-00006-0.27896-0.93772-0.77187-0.73333.h5\n",
      "Epoch 7/10\n",
      "17/17 [==============================] - 35s 2s/step - loss: 0.2541 - categorical_accuracy: 0.9446 - val_loss: 0.7502 - val_categorical_accuracy: 0.7333\n",
      "\n",
      "Epoch 00007: saving model to model_init_2020-08-1714_29_28.508381/model-00007-0.25410-0.94464-0.75021-0.73333.h5\n",
      "\n",
      "Epoch 00007: ReduceLROnPlateau reducing learning rate to 9.536743617033494e-10.\n",
      "Epoch 8/10\n",
      "17/17 [==============================] - 36s 2s/step - loss: 0.2603 - categorical_accuracy: 0.9308 - val_loss: 0.7607 - val_categorical_accuracy: 0.7333\n",
      "\n",
      "Epoch 00008: saving model to model_init_2020-08-1714_29_28.508381/model-00008-0.26033-0.93080-0.76068-0.73333.h5\n",
      "Epoch 9/10\n",
      "17/17 [==============================] - 35s 2s/step - loss: 0.2319 - categorical_accuracy: 0.9550 - val_loss: 0.5975 - val_categorical_accuracy: 0.8000\n",
      "\n",
      "Epoch 00009: saving model to model_init_2020-08-1714_29_28.508381/model-00009-0.23190-0.95502-0.59750-0.80000.h5\n",
      "\n",
      "Epoch 00009: ReduceLROnPlateau reducing learning rate to 4.768371808516747e-10.\n",
      "Epoch 10/10\n",
      "17/17 [==============================] - 35s 2s/step - loss: 0.2608 - categorical_accuracy: 0.9377 - val_loss: 0.6573 - val_categorical_accuracy: 0.7833\n",
      "\n",
      "Epoch 00010: saving model to model_init_2020-08-1714_29_28.508381/model-00010-0.26084-0.93772-0.65726-0.78333.h5\n"
     ]
    },
    {
     "data": {
      "text/plain": [
       "<keras.callbacks.History at 0x7efb52c76e10>"
      ]
     },
     "execution_count": 60,
     "metadata": {},
     "output_type": "execute_result"
    }
   ],
   "source": [
    "batch_size = 30\n",
    "\n",
    "num_epochs = 10\n",
    "model.fit_generator(train_generator, steps_per_epoch=steps_per_epoch, epochs=num_epochs, verbose=1, \n",
    "                    callbacks=callbacks_list, validation_data=val_generator, \n",
    "                    validation_steps=validation_steps, class_weight=None, workers=1, initial_epoch=0)"
   ]
  },
  {
   "cell_type": "code",
   "execution_count": null,
   "metadata": {},
   "outputs": [],
   "source": []
  },
  {
   "cell_type": "code",
   "execution_count": null,
   "metadata": {},
   "outputs": [],
   "source": []
  },
  {
   "cell_type": "code",
   "execution_count": null,
   "metadata": {},
   "outputs": [],
   "source": []
  }
 ],
 "metadata": {
  "kernelspec": {
   "display_name": "Python 3",
   "language": "python",
   "name": "python3"
  },
  "language_info": {
   "codemirror_mode": {
    "name": "ipython",
    "version": 3
   },
   "file_extension": ".py",
   "mimetype": "text/x-python",
   "name": "python",
   "nbconvert_exporter": "python",
   "pygments_lexer": "ipython3",
   "version": "3.7.6"
  }
 },
 "nbformat": 4,
 "nbformat_minor": 2
}
